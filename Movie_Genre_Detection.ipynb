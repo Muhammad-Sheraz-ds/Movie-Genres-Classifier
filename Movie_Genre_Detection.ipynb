{
 "cells": [
  {
   "cell_type": "markdown",
   "id": "04395e6e-3897-4e14-adca-90af5aab5b68",
   "metadata": {},
   "source": [
    "<h1 align='center'> Movie Genre Predictor</h1>\n",
    "\n",
    "# INTRODUCTION\n",
    "\n",
    "## Overview\n",
    "\n",
    "Welcome to the Movie Genre Predictor project! This project aims to predict movie genres based on various features extracted from movie data obtained from The Movie Database (TMDB). The goal is to develop a machine learning model that accurately predicts the genre of a movie given its title, overview.\n",
    "\n",
    "Classifying a text document into one or the other pre-defined classes (e.g., spam or not a spam) is an example of a standard Binary Classification problem. There are other scenarios where in one would need to classify the document into more than 2 classes. This is a multi-class classification problem where a data instance is associated with only one of the many single class labels, e.g., News Topic Classifier with the possible classes as 'Food', 'Sports', 'Politics' wherein each article can fall into only one of these classes. \n",
    "\n",
    "In this project, we will look into a scenario where each document can possibly assigned to more than one class, i.e., multi-label classification. The dataset comes from TMDB contains several informations about the movie. Here, we will use the plot of the movie and find out what are all the genres it falls under.\n",
    "\n",
    "## Business Problem\n",
    "\n",
    "In the realm of movie production and recommendation systems, accurately predicting movie genres is crucial for various applications such as content recommendation, marketing strategies, and audience targeting. This project addresses the challenge of predicting movie genres effectively using machine learning techniques."
   ]
  },
  {
   "cell_type": "code",
   "execution_count": 1,
   "id": "a4f8e6e3-f971-4963-acc3-ff8dcb94b1c4",
   "metadata": {},
   "outputs": [],
   "source": [
    "# Import necessery libraries\n",
    "import pandas as pd\n",
    "import numpy as np\n",
    "import matplotlib.pyplot as plt \n",
    "import seaborn as sns"
   ]
  },
  {
   "cell_type": "code",
   "execution_count": 2,
   "id": "67bfb6aa-a6c2-4b0f-ac1c-0131222fcf72",
   "metadata": {},
   "outputs": [],
   "source": [
    "# Ignore  the warnings\n",
    "import warnings\n",
    "warnings.filterwarnings('always')\n",
    "warnings.filterwarnings('ignore')"
   ]
  },
  {
   "cell_type": "code",
   "execution_count": 3,
   "id": "9a808797-9fd5-4ca0-8629-c2ef3fc5c41a",
   "metadata": {},
   "outputs": [],
   "source": [
    "import matplotlib.pyplot as plt\n",
    "import matplotlib as mpl\n",
    "\n",
    "%matplotlib inline\n",
    "\n",
    "mpl.rcParams.update({\n",
    "    'font.size': 14,\n",
    "    'axes.labelsize': 16,\n",
    "    'axes.titlesize': 18,\n",
    "    'xtick.labelsize': 14,\n",
    "    'ytick.labelsize': 14,\n",
    "})\n"
   ]
  },
  {
   "cell_type": "markdown",
   "id": "7e789de8-9b85-4b28-a270-b0e6f9ad20fd",
   "metadata": {},
   "source": [
    "# **1.Data Acquisition**"
   ]
  },
  {
   "cell_type": "code",
   "execution_count": 4,
   "id": "29974420-29e0-4b92-8e0e-c8a35fc8b40e",
   "metadata": {},
   "outputs": [],
   "source": [
    "from credientials import api_key"
   ]
  },
  {
   "cell_type": "code",
   "execution_count": 143,
   "id": "3c4db283-549d-4600-9993-b2a8a8eb61f1",
   "metadata": {},
   "outputs": [
    {
     "data": {
      "text/plain": [
       "200"
      ]
     },
     "execution_count": 143,
     "metadata": {},
     "output_type": "execute_result"
    }
   ],
   "source": [
    "import requests\n",
    "response = requests.get(f\"https://api.themoviedb.org/3/movie/top_rated?api_key={api_key}&language=en-US&page=1\")\n",
    "response.status_code"
   ]
  },
  {
   "cell_type": "code",
   "execution_count": 144,
   "id": "5dc4a002-6f87-47d4-ab9d-e8b9c1320181",
   "metadata": {},
   "outputs": [
    {
     "data": {
      "text/plain": [
       "{'page': 1,\n",
       " 'results': [{'adult': False,\n",
       "   'backdrop_path': '/kXfqcdQKsToO0OUXHcrrNCHDBzO.jpg',\n",
       "   'genre_ids': [18, 80],\n",
       "   'id': 278,\n",
       "   'original_language': 'en',\n",
       "   'original_title': 'The Shawshank Redemption',\n",
       "   'overview': 'Framed in the 1940s for the double murder of his wife and her lover, upstanding banker Andy Dufresne begins a new life at the Shawshank prison, where he puts his accounting skills to work for an amoral warden. During his long stretch in prison, Dufresne comes to be admired by the other inmates -- including an older prisoner named Red -- for his integrity and unquenchable sense of hope.',\n",
       "   'popularity': 126.841,\n",
       "   'poster_path': '/9cqNxx0GxF0bflZmeSMuL5tnGzr.jpg',\n",
       "   'release_date': '1994-09-23',\n",
       "   'title': 'The Shawshank Redemption',\n",
       "   'video': False,\n",
       "   'vote_average': 8.704,\n",
       "   'vote_count': 25817},\n",
       "  {'adult': False,\n",
       "   'backdrop_path': '/tmU7GeKVybMWFButWEGl2M4GeiP.jpg',\n",
       "   'genre_ids': [18, 80],\n",
       "   'id': 238,\n",
       "   'original_language': 'en',\n",
       "   'original_title': 'The Godfather',\n",
       "   'overview': 'Spanning the years 1945 to 1955, a chronicle of the fictional Italian-American Corleone crime family. When organized crime family patriarch, Vito Corleone barely survives an attempt on his life, his youngest son, Michael steps in to take care of the would-be killers, launching a campaign of bloody revenge.',\n",
       "   'popularity': 97.592,\n",
       "   'poster_path': '/3bhkrj58Vtu7enYsRolD1fZdja1.jpg',\n",
       "   'release_date': '1972-03-14',\n",
       "   'title': 'The Godfather',\n",
       "   'video': False,\n",
       "   'vote_average': 8.695,\n",
       "   'vote_count': 19599},\n",
       "  {'adult': False,\n",
       "   'backdrop_path': '/kGzFbGhp99zva6oZODW5atUtnqi.jpg',\n",
       "   'genre_ids': [18, 80],\n",
       "   'id': 240,\n",
       "   'original_language': 'en',\n",
       "   'original_title': 'The Godfather Part II',\n",
       "   'overview': 'In the continuing saga of the Corleone crime family, a young Vito Corleone grows up in Sicily and in 1910s New York. In the 1950s, Michael Corleone attempts to expand the family business into Las Vegas, Hollywood and Cuba.',\n",
       "   'popularity': 65.701,\n",
       "   'poster_path': '/hek3koDUyRQk7FIhPXsa6mT2Zc3.jpg',\n",
       "   'release_date': '1974-12-20',\n",
       "   'title': 'The Godfather Part II',\n",
       "   'video': False,\n",
       "   'vote_average': 8.576,\n",
       "   'vote_count': 11847},\n",
       "  {'adult': False,\n",
       "   'backdrop_path': '/zb6fM1CX41D9rF9hdgclu0peUmy.jpg',\n",
       "   'genre_ids': [18, 36, 10752],\n",
       "   'id': 424,\n",
       "   'original_language': 'en',\n",
       "   'original_title': \"Schindler's List\",\n",
       "   'overview': 'The true story of how businessman Oskar Schindler saved over a thousand Jewish lives from the Nazis while they worked as slaves in his factory during World War II.',\n",
       "   'popularity': 80.759,\n",
       "   'poster_path': '/sF1U4EUQS8YHUYjNl3pMGNIQyr0.jpg',\n",
       "   'release_date': '1993-12-15',\n",
       "   'title': \"Schindler's List\",\n",
       "   'video': False,\n",
       "   'vote_average': 8.566,\n",
       "   'vote_count': 15228},\n",
       "  {'adult': False,\n",
       "   'backdrop_path': '/mSDsSDwaP3E7dEfUPWy4J0djt4O.jpg',\n",
       "   'genre_ids': [16, 10751, 14],\n",
       "   'id': 129,\n",
       "   'original_language': 'ja',\n",
       "   'original_title': '千と千尋の神隠し',\n",
       "   'overview': 'A young girl, Chihiro, becomes trapped in a strange new world of spirits. When her parents undergo a mysterious transformation, she must call upon the courage she never knew she had to free her family.',\n",
       "   'popularity': 110.882,\n",
       "   'poster_path': '/39wmItIWsg5sZMyRUHLkWBcuVCM.jpg',\n",
       "   'release_date': '2001-07-20',\n",
       "   'title': 'Spirited Away',\n",
       "   'video': False,\n",
       "   'vote_average': 8.541,\n",
       "   'vote_count': 15701},\n",
       "  {'adult': False,\n",
       "   'backdrop_path': '/qqHQsStV6exghCM7zbObuYBiYxw.jpg',\n",
       "   'genre_ids': [18],\n",
       "   'id': 389,\n",
       "   'original_language': 'en',\n",
       "   'original_title': '12 Angry Men',\n",
       "   'overview': \"The defense and the prosecution have rested and the jury is filing into the jury room to decide if a young Spanish-American is guilty or innocent of murdering his father. What begins as an open and shut case soon becomes a mini-drama of each of the jurors' prejudices and preconceptions about the trial, the accused, and each other.\",\n",
       "   'popularity': 52.678,\n",
       "   'poster_path': '/ow3wq89wM8qd5X7hWKxiRfsFf9C.jpg',\n",
       "   'release_date': '1957-04-10',\n",
       "   'title': '12 Angry Men',\n",
       "   'video': False,\n",
       "   'vote_average': 8.54,\n",
       "   'vote_count': 8128},\n",
       "  {'adult': False,\n",
       "   'backdrop_path': '/90ez6ArvpO8bvpyIngBuwXOqJm5.jpg',\n",
       "   'genre_ids': [35, 18, 10749],\n",
       "   'id': 19404,\n",
       "   'original_language': 'hi',\n",
       "   'original_title': 'दिलवाले दुल्हनिया ले जायेंगे',\n",
       "   'overview': 'Raj is a rich, carefree, happy-go-lucky second generation NRI. Simran is the daughter of Chaudhary Baldev Singh, who in spite of being an NRI is very strict about adherence to Indian values. Simran has left for India to be married to her childhood fiancé. Raj leaves for India with a mission at his hands, to claim his lady love under the noses of her whole family. Thus begins a saga.',\n",
       "   'popularity': 43.387,\n",
       "   'poster_path': '/lfRkUr7DYdHldAqi3PwdQGBRBPM.jpg',\n",
       "   'release_date': '1995-10-20',\n",
       "   'title': 'Dilwale Dulhania Le Jayenge',\n",
       "   'video': False,\n",
       "   'vote_average': 8.533,\n",
       "   'vote_count': 4357},\n",
       "  {'adult': False,\n",
       "   'backdrop_path': '/dqK9Hag1054tghRQSqLSfrkvQnA.jpg',\n",
       "   'genre_ids': [18, 28, 80, 53],\n",
       "   'id': 155,\n",
       "   'original_language': 'en',\n",
       "   'original_title': 'The Dark Knight',\n",
       "   'overview': 'Batman raises the stakes in his war on crime. With the help of Lt. Jim Gordon and District Attorney Harvey Dent, Batman sets out to dismantle the remaining criminal organizations that plague the streets. The partnership proves to be effective, but they soon find themselves prey to a reign of chaos unleashed by a rising criminal mastermind known to the terrified citizens of Gotham as the Joker.',\n",
       "   'popularity': 97.005,\n",
       "   'poster_path': '/qJ2tW6WMUDux911r6m7haRef0WH.jpg',\n",
       "   'release_date': '2008-07-16',\n",
       "   'title': 'The Dark Knight',\n",
       "   'video': False,\n",
       "   'vote_average': 8.515,\n",
       "   'vote_count': 31638},\n",
       "  {'adult': False,\n",
       "   'backdrop_path': '/hiKmpZMGZsrkA3cdce8a7Dpos1j.jpg',\n",
       "   'genre_ids': [35, 53, 18],\n",
       "   'id': 496243,\n",
       "   'original_language': 'ko',\n",
       "   'original_title': '기생충',\n",
       "   'overview': \"All unemployed, Ki-taek's family takes peculiar interest in the wealthy and glamorous Parks for their livelihood until they get entangled in an unexpected incident.\",\n",
       "   'popularity': 88.275,\n",
       "   'poster_path': '/7IiTTgloJzvGI1TAYymCfbfl3vT.jpg',\n",
       "   'release_date': '2019-05-30',\n",
       "   'title': 'Parasite',\n",
       "   'video': False,\n",
       "   'vote_average': 8.511,\n",
       "   'vote_count': 17299},\n",
       "  {'adult': False,\n",
       "   'backdrop_path': '/vxJ08SvwomfKbpboCWynC3uqUg4.jpg',\n",
       "   'genre_ids': [14, 18, 80],\n",
       "   'id': 497,\n",
       "   'original_language': 'en',\n",
       "   'original_title': 'The Green Mile',\n",
       "   'overview': \"A supernatural tale set on death row in a Southern prison, where gentle giant John Coffey possesses the mysterious power to heal people's ailments. When the cell block's head guard, Paul Edgecomb, recognizes Coffey's miraculous gift, he tries desperately to help stave off the condemned man's execution.\",\n",
       "   'popularity': 86.478,\n",
       "   'poster_path': '/8VG8fDNiy50H4FedGwdSVUPoaJe.jpg',\n",
       "   'release_date': '1999-12-10',\n",
       "   'title': 'The Green Mile',\n",
       "   'video': False,\n",
       "   'vote_average': 8.5,\n",
       "   'vote_count': 16624},\n",
       "  {'adult': False,\n",
       "   'backdrop_path': '/dIWwZW7dJJtqC6CgWzYkNVKIUm8.jpg',\n",
       "   'genre_ids': [16, 10749, 18],\n",
       "   'id': 372058,\n",
       "   'original_language': 'ja',\n",
       "   'original_title': '君の名は。',\n",
       "   'overview': 'High schoolers Mitsuha and Taki are complete strangers living separate lives. But one night, they suddenly switch places. Mitsuha wakes up in Taki’s body, and he in hers. This bizarre occurrence continues to happen randomly, and the two must adjust their lives around each other.',\n",
       "   'popularity': 78.967,\n",
       "   'poster_path': '/q719jXXEzOoYaps6babgKnONONX.jpg',\n",
       "   'release_date': '2016-08-26',\n",
       "   'title': 'Your Name.',\n",
       "   'video': False,\n",
       "   'vote_average': 8.498,\n",
       "   'vote_count': 10842},\n",
       "  {'adult': False,\n",
       "   'backdrop_path': '/suaEOtk1N1sgg2MTM7oZd2cfVp3.jpg',\n",
       "   'genre_ids': [53, 80],\n",
       "   'id': 680,\n",
       "   'original_language': 'en',\n",
       "   'original_title': 'Pulp Fiction',\n",
       "   'overview': \"A burger-loving hit man, his philosophical partner, a drug-addled gangster's moll and a washed-up boxer converge in this sprawling, comedic crime caper. Their adventures unfurl in three stories that ingeniously trip back and forth in time.\",\n",
       "   'popularity': 106.922,\n",
       "   'poster_path': '/d5iIlFn5s0ImszYzBPb8JPIfbXD.jpg',\n",
       "   'release_date': '1994-09-10',\n",
       "   'title': 'Pulp Fiction',\n",
       "   'video': False,\n",
       "   'vote_average': 8.489,\n",
       "   'vote_count': 26806},\n",
       "  {'adult': False,\n",
       "   'backdrop_path': '/2u7zbn8EudG6kLlBzUYqP8RyFU4.jpg',\n",
       "   'genre_ids': [12, 14, 28],\n",
       "   'id': 122,\n",
       "   'original_language': 'en',\n",
       "   'original_title': 'The Lord of the Rings: The Return of the King',\n",
       "   'overview': \"Aragorn is revealed as the heir to the ancient kings as he, Gandalf and the other members of the broken fellowship struggle to save Gondor from Sauron's forces. Meanwhile, Frodo and Sam take the ring closer to the heart of Mordor, the dark lord's realm.\",\n",
       "   'popularity': 102.465,\n",
       "   'poster_path': '/rCzpDGLbOoPwLjy3OAm5NUPOTrC.jpg',\n",
       "   'release_date': '2003-12-01',\n",
       "   'title': 'The Lord of the Rings: The Return of the King',\n",
       "   'video': False,\n",
       "   'vote_average': 8.478,\n",
       "   'vote_count': 23173},\n",
       "  {'adult': False,\n",
       "   'backdrop_path': '/qdIMHd4sEfJSckfVJfKQvisL02a.jpg',\n",
       "   'genre_ids': [35, 18, 10749],\n",
       "   'id': 13,\n",
       "   'original_language': 'en',\n",
       "   'original_title': 'Forrest Gump',\n",
       "   'overview': 'A man with a low IQ has accomplished great things in his life and been present during significant historic events—in each case, far exceeding what anyone imagined he could do. But despite all he has achieved, his one true love eludes him.',\n",
       "   'popularity': 114.062,\n",
       "   'poster_path': '/arw2vcBveWOVZr6pxd9XTd1TdQa.jpg',\n",
       "   'release_date': '1994-06-23',\n",
       "   'title': 'Forrest Gump',\n",
       "   'video': False,\n",
       "   'vote_average': 8.476,\n",
       "   'vote_count': 26346},\n",
       "  {'adult': False,\n",
       "   'backdrop_path': '/Adrip2Jqzw56KeuV2nAxucKMNXA.jpg',\n",
       "   'genre_ids': [37],\n",
       "   'id': 429,\n",
       "   'original_language': 'it',\n",
       "   'original_title': 'Il buono, il brutto, il cattivo',\n",
       "   'overview': 'While the Civil War rages on between the Union and the Confederacy, three men – a quiet loner, a ruthless hitman, and a Mexican bandit – comb the American Southwest in search of a strongbox containing $200,000 in stolen gold.',\n",
       "   'popularity': 76.085,\n",
       "   'poster_path': '/bX2xnavhMYjWDoZp1VM6VnU1xwe.jpg',\n",
       "   'release_date': '1966-12-22',\n",
       "   'title': 'The Good, the Bad and the Ugly',\n",
       "   'video': False,\n",
       "   'vote_average': 8.5,\n",
       "   'vote_count': 8142},\n",
       "  {'adult': False,\n",
       "   'backdrop_path': '/sw7mordbZxgITU877yTpZCud90M.jpg',\n",
       "   'genre_ids': [18, 80],\n",
       "   'id': 769,\n",
       "   'original_language': 'en',\n",
       "   'original_title': 'GoodFellas',\n",
       "   'overview': 'The true story of Henry Hill, a half-Irish, half-Sicilian Brooklyn kid who is adopted by neighbourhood gangsters at an early age and climbs the ranks of a Mafia family under the guidance of Jimmy Conway.',\n",
       "   'popularity': 60.498,\n",
       "   'poster_path': '/aKuFiU82s5ISJpGZp7YkIr3kCUd.jpg',\n",
       "   'release_date': '1990-09-12',\n",
       "   'title': 'GoodFellas',\n",
       "   'video': False,\n",
       "   'vote_average': 8.466,\n",
       "   'vote_count': 12248},\n",
       "  {'adult': False,\n",
       "   'backdrop_path': '/dlC0ed9Ugh3FzydnkBtV5lRXUu4.jpg',\n",
       "   'genre_ids': [16, 18, 10752],\n",
       "   'id': 12477,\n",
       "   'original_language': 'ja',\n",
       "   'original_title': '火垂るの墓',\n",
       "   'overview': 'In the final months of World War II, 14-year-old Seita and his sister Setsuko are orphaned when their mother is killed during an air raid in Kobe, Japan. After a falling out with their aunt, they move into an abandoned bomb shelter. With no surviving relatives and their emergency rations depleted, Seita and Setsuko struggle to survive.',\n",
       "   'popularity': 0.6,\n",
       "   'poster_path': '/k9tv1rXZbOhH7eiCk378x61kNQ1.jpg',\n",
       "   'release_date': '1988-04-16',\n",
       "   'title': 'Grave of the Fireflies',\n",
       "   'video': False,\n",
       "   'vote_average': 8.464,\n",
       "   'vote_count': 5160},\n",
       "  {'adult': False,\n",
       "   'backdrop_path': '/zoVeIgKzGJzpdG6Gwnr7iOYfIMU.jpg',\n",
       "   'genre_ids': [18, 10749],\n",
       "   'id': 11216,\n",
       "   'original_language': 'it',\n",
       "   'original_title': 'Nuovo Cinema Paradiso',\n",
       "   'overview': \"A filmmaker recalls his childhood, when he fell in love with the movies at his village's theater and formed a deep friendship with the theater's projectionist.\",\n",
       "   'popularity': 38.496,\n",
       "   'poster_path': '/8SRUfRUi6x4O68n0VCbDNRa6iGL.jpg',\n",
       "   'release_date': '1988-11-17',\n",
       "   'title': 'Cinema Paradiso',\n",
       "   'video': False,\n",
       "   'vote_average': 8.455,\n",
       "   'vote_count': 4150},\n",
       "  {'adult': False,\n",
       "   'backdrop_path': '/gavyCu1UaTaTNPsVaGXT6pe5u24.jpg',\n",
       "   'genre_ids': [35, 18],\n",
       "   'id': 637,\n",
       "   'original_language': 'it',\n",
       "   'original_title': 'La vita è bella',\n",
       "   'overview': 'A touching story of an Italian book seller of Jewish ancestry who lives in his own little fairy tale. His creative and happy life would come to an abrupt halt when his entire family is deported to a concentration camp during World War II. While locked up he tries to convince his son that the whole thing is just a game.',\n",
       "   'popularity': 48.848,\n",
       "   'poster_path': '/74hLDKjD5aGYOotO6esUVaeISa2.jpg',\n",
       "   'release_date': '1997-12-20',\n",
       "   'title': 'Life Is Beautiful',\n",
       "   'video': False,\n",
       "   'vote_average': 8.453,\n",
       "   'vote_count': 12629},\n",
       "  {'adult': False,\n",
       "   'backdrop_path': '/qvZ91FwMq6O47VViAr8vZNQz3WI.jpg',\n",
       "   'genre_ids': [28, 18],\n",
       "   'id': 346,\n",
       "   'original_language': 'ja',\n",
       "   'original_title': '七人の侍',\n",
       "   'overview': \"A samurai answers a village's request for protection after he falls on hard times. The town needs protection from bandits, so the samurai gathers six others to help him teach the people how to defend themselves, and the villagers provide the soldiers with food.\",\n",
       "   'popularity': 37.684,\n",
       "   'poster_path': '/8OKmBV5BUFzmozIC3pPWKHy17kx.jpg',\n",
       "   'release_date': '1954-04-26',\n",
       "   'title': 'Seven Samurai',\n",
       "   'video': False,\n",
       "   'vote_average': 8.453,\n",
       "   'vote_count': 3435}],\n",
       " 'total_pages': 463,\n",
       " 'total_results': 9250}"
      ]
     },
     "execution_count": 144,
     "metadata": {},
     "output_type": "execute_result"
    }
   ],
   "source": [
    "response.json()"
   ]
  },
  {
   "cell_type": "code",
   "execution_count": 145,
   "id": "03f8b474-35eb-439c-b7a9-6ebfb4f4d6df",
   "metadata": {},
   "outputs": [
    {
     "data": {
      "text/plain": [
       "[{'adult': False,\n",
       "  'backdrop_path': '/kXfqcdQKsToO0OUXHcrrNCHDBzO.jpg',\n",
       "  'genre_ids': [18, 80],\n",
       "  'id': 278,\n",
       "  'original_language': 'en',\n",
       "  'original_title': 'The Shawshank Redemption',\n",
       "  'overview': 'Framed in the 1940s for the double murder of his wife and her lover, upstanding banker Andy Dufresne begins a new life at the Shawshank prison, where he puts his accounting skills to work for an amoral warden. During his long stretch in prison, Dufresne comes to be admired by the other inmates -- including an older prisoner named Red -- for his integrity and unquenchable sense of hope.',\n",
       "  'popularity': 126.841,\n",
       "  'poster_path': '/9cqNxx0GxF0bflZmeSMuL5tnGzr.jpg',\n",
       "  'release_date': '1994-09-23',\n",
       "  'title': 'The Shawshank Redemption',\n",
       "  'video': False,\n",
       "  'vote_average': 8.704,\n",
       "  'vote_count': 25817},\n",
       " {'adult': False,\n",
       "  'backdrop_path': '/tmU7GeKVybMWFButWEGl2M4GeiP.jpg',\n",
       "  'genre_ids': [18, 80],\n",
       "  'id': 238,\n",
       "  'original_language': 'en',\n",
       "  'original_title': 'The Godfather',\n",
       "  'overview': 'Spanning the years 1945 to 1955, a chronicle of the fictional Italian-American Corleone crime family. When organized crime family patriarch, Vito Corleone barely survives an attempt on his life, his youngest son, Michael steps in to take care of the would-be killers, launching a campaign of bloody revenge.',\n",
       "  'popularity': 97.592,\n",
       "  'poster_path': '/3bhkrj58Vtu7enYsRolD1fZdja1.jpg',\n",
       "  'release_date': '1972-03-14',\n",
       "  'title': 'The Godfather',\n",
       "  'video': False,\n",
       "  'vote_average': 8.695,\n",
       "  'vote_count': 19599},\n",
       " {'adult': False,\n",
       "  'backdrop_path': '/kGzFbGhp99zva6oZODW5atUtnqi.jpg',\n",
       "  'genre_ids': [18, 80],\n",
       "  'id': 240,\n",
       "  'original_language': 'en',\n",
       "  'original_title': 'The Godfather Part II',\n",
       "  'overview': 'In the continuing saga of the Corleone crime family, a young Vito Corleone grows up in Sicily and in 1910s New York. In the 1950s, Michael Corleone attempts to expand the family business into Las Vegas, Hollywood and Cuba.',\n",
       "  'popularity': 65.701,\n",
       "  'poster_path': '/hek3koDUyRQk7FIhPXsa6mT2Zc3.jpg',\n",
       "  'release_date': '1974-12-20',\n",
       "  'title': 'The Godfather Part II',\n",
       "  'video': False,\n",
       "  'vote_average': 8.576,\n",
       "  'vote_count': 11847},\n",
       " {'adult': False,\n",
       "  'backdrop_path': '/zb6fM1CX41D9rF9hdgclu0peUmy.jpg',\n",
       "  'genre_ids': [18, 36, 10752],\n",
       "  'id': 424,\n",
       "  'original_language': 'en',\n",
       "  'original_title': \"Schindler's List\",\n",
       "  'overview': 'The true story of how businessman Oskar Schindler saved over a thousand Jewish lives from the Nazis while they worked as slaves in his factory during World War II.',\n",
       "  'popularity': 80.759,\n",
       "  'poster_path': '/sF1U4EUQS8YHUYjNl3pMGNIQyr0.jpg',\n",
       "  'release_date': '1993-12-15',\n",
       "  'title': \"Schindler's List\",\n",
       "  'video': False,\n",
       "  'vote_average': 8.566,\n",
       "  'vote_count': 15228},\n",
       " {'adult': False,\n",
       "  'backdrop_path': '/mSDsSDwaP3E7dEfUPWy4J0djt4O.jpg',\n",
       "  'genre_ids': [16, 10751, 14],\n",
       "  'id': 129,\n",
       "  'original_language': 'ja',\n",
       "  'original_title': '千と千尋の神隠し',\n",
       "  'overview': 'A young girl, Chihiro, becomes trapped in a strange new world of spirits. When her parents undergo a mysterious transformation, she must call upon the courage she never knew she had to free her family.',\n",
       "  'popularity': 110.882,\n",
       "  'poster_path': '/39wmItIWsg5sZMyRUHLkWBcuVCM.jpg',\n",
       "  'release_date': '2001-07-20',\n",
       "  'title': 'Spirited Away',\n",
       "  'video': False,\n",
       "  'vote_average': 8.541,\n",
       "  'vote_count': 15701},\n",
       " {'adult': False,\n",
       "  'backdrop_path': '/qqHQsStV6exghCM7zbObuYBiYxw.jpg',\n",
       "  'genre_ids': [18],\n",
       "  'id': 389,\n",
       "  'original_language': 'en',\n",
       "  'original_title': '12 Angry Men',\n",
       "  'overview': \"The defense and the prosecution have rested and the jury is filing into the jury room to decide if a young Spanish-American is guilty or innocent of murdering his father. What begins as an open and shut case soon becomes a mini-drama of each of the jurors' prejudices and preconceptions about the trial, the accused, and each other.\",\n",
       "  'popularity': 52.678,\n",
       "  'poster_path': '/ow3wq89wM8qd5X7hWKxiRfsFf9C.jpg',\n",
       "  'release_date': '1957-04-10',\n",
       "  'title': '12 Angry Men',\n",
       "  'video': False,\n",
       "  'vote_average': 8.54,\n",
       "  'vote_count': 8128},\n",
       " {'adult': False,\n",
       "  'backdrop_path': '/90ez6ArvpO8bvpyIngBuwXOqJm5.jpg',\n",
       "  'genre_ids': [35, 18, 10749],\n",
       "  'id': 19404,\n",
       "  'original_language': 'hi',\n",
       "  'original_title': 'दिलवाले दुल्हनिया ले जायेंगे',\n",
       "  'overview': 'Raj is a rich, carefree, happy-go-lucky second generation NRI. Simran is the daughter of Chaudhary Baldev Singh, who in spite of being an NRI is very strict about adherence to Indian values. Simran has left for India to be married to her childhood fiancé. Raj leaves for India with a mission at his hands, to claim his lady love under the noses of her whole family. Thus begins a saga.',\n",
       "  'popularity': 43.387,\n",
       "  'poster_path': '/lfRkUr7DYdHldAqi3PwdQGBRBPM.jpg',\n",
       "  'release_date': '1995-10-20',\n",
       "  'title': 'Dilwale Dulhania Le Jayenge',\n",
       "  'video': False,\n",
       "  'vote_average': 8.533,\n",
       "  'vote_count': 4357},\n",
       " {'adult': False,\n",
       "  'backdrop_path': '/dqK9Hag1054tghRQSqLSfrkvQnA.jpg',\n",
       "  'genre_ids': [18, 28, 80, 53],\n",
       "  'id': 155,\n",
       "  'original_language': 'en',\n",
       "  'original_title': 'The Dark Knight',\n",
       "  'overview': 'Batman raises the stakes in his war on crime. With the help of Lt. Jim Gordon and District Attorney Harvey Dent, Batman sets out to dismantle the remaining criminal organizations that plague the streets. The partnership proves to be effective, but they soon find themselves prey to a reign of chaos unleashed by a rising criminal mastermind known to the terrified citizens of Gotham as the Joker.',\n",
       "  'popularity': 97.005,\n",
       "  'poster_path': '/qJ2tW6WMUDux911r6m7haRef0WH.jpg',\n",
       "  'release_date': '2008-07-16',\n",
       "  'title': 'The Dark Knight',\n",
       "  'video': False,\n",
       "  'vote_average': 8.515,\n",
       "  'vote_count': 31638},\n",
       " {'adult': False,\n",
       "  'backdrop_path': '/hiKmpZMGZsrkA3cdce8a7Dpos1j.jpg',\n",
       "  'genre_ids': [35, 53, 18],\n",
       "  'id': 496243,\n",
       "  'original_language': 'ko',\n",
       "  'original_title': '기생충',\n",
       "  'overview': \"All unemployed, Ki-taek's family takes peculiar interest in the wealthy and glamorous Parks for their livelihood until they get entangled in an unexpected incident.\",\n",
       "  'popularity': 88.275,\n",
       "  'poster_path': '/7IiTTgloJzvGI1TAYymCfbfl3vT.jpg',\n",
       "  'release_date': '2019-05-30',\n",
       "  'title': 'Parasite',\n",
       "  'video': False,\n",
       "  'vote_average': 8.511,\n",
       "  'vote_count': 17299},\n",
       " {'adult': False,\n",
       "  'backdrop_path': '/vxJ08SvwomfKbpboCWynC3uqUg4.jpg',\n",
       "  'genre_ids': [14, 18, 80],\n",
       "  'id': 497,\n",
       "  'original_language': 'en',\n",
       "  'original_title': 'The Green Mile',\n",
       "  'overview': \"A supernatural tale set on death row in a Southern prison, where gentle giant John Coffey possesses the mysterious power to heal people's ailments. When the cell block's head guard, Paul Edgecomb, recognizes Coffey's miraculous gift, he tries desperately to help stave off the condemned man's execution.\",\n",
       "  'popularity': 86.478,\n",
       "  'poster_path': '/8VG8fDNiy50H4FedGwdSVUPoaJe.jpg',\n",
       "  'release_date': '1999-12-10',\n",
       "  'title': 'The Green Mile',\n",
       "  'video': False,\n",
       "  'vote_average': 8.5,\n",
       "  'vote_count': 16624},\n",
       " {'adult': False,\n",
       "  'backdrop_path': '/dIWwZW7dJJtqC6CgWzYkNVKIUm8.jpg',\n",
       "  'genre_ids': [16, 10749, 18],\n",
       "  'id': 372058,\n",
       "  'original_language': 'ja',\n",
       "  'original_title': '君の名は。',\n",
       "  'overview': 'High schoolers Mitsuha and Taki are complete strangers living separate lives. But one night, they suddenly switch places. Mitsuha wakes up in Taki’s body, and he in hers. This bizarre occurrence continues to happen randomly, and the two must adjust their lives around each other.',\n",
       "  'popularity': 78.967,\n",
       "  'poster_path': '/q719jXXEzOoYaps6babgKnONONX.jpg',\n",
       "  'release_date': '2016-08-26',\n",
       "  'title': 'Your Name.',\n",
       "  'video': False,\n",
       "  'vote_average': 8.498,\n",
       "  'vote_count': 10842},\n",
       " {'adult': False,\n",
       "  'backdrop_path': '/suaEOtk1N1sgg2MTM7oZd2cfVp3.jpg',\n",
       "  'genre_ids': [53, 80],\n",
       "  'id': 680,\n",
       "  'original_language': 'en',\n",
       "  'original_title': 'Pulp Fiction',\n",
       "  'overview': \"A burger-loving hit man, his philosophical partner, a drug-addled gangster's moll and a washed-up boxer converge in this sprawling, comedic crime caper. Their adventures unfurl in three stories that ingeniously trip back and forth in time.\",\n",
       "  'popularity': 106.922,\n",
       "  'poster_path': '/d5iIlFn5s0ImszYzBPb8JPIfbXD.jpg',\n",
       "  'release_date': '1994-09-10',\n",
       "  'title': 'Pulp Fiction',\n",
       "  'video': False,\n",
       "  'vote_average': 8.489,\n",
       "  'vote_count': 26806},\n",
       " {'adult': False,\n",
       "  'backdrop_path': '/2u7zbn8EudG6kLlBzUYqP8RyFU4.jpg',\n",
       "  'genre_ids': [12, 14, 28],\n",
       "  'id': 122,\n",
       "  'original_language': 'en',\n",
       "  'original_title': 'The Lord of the Rings: The Return of the King',\n",
       "  'overview': \"Aragorn is revealed as the heir to the ancient kings as he, Gandalf and the other members of the broken fellowship struggle to save Gondor from Sauron's forces. Meanwhile, Frodo and Sam take the ring closer to the heart of Mordor, the dark lord's realm.\",\n",
       "  'popularity': 102.465,\n",
       "  'poster_path': '/rCzpDGLbOoPwLjy3OAm5NUPOTrC.jpg',\n",
       "  'release_date': '2003-12-01',\n",
       "  'title': 'The Lord of the Rings: The Return of the King',\n",
       "  'video': False,\n",
       "  'vote_average': 8.478,\n",
       "  'vote_count': 23173},\n",
       " {'adult': False,\n",
       "  'backdrop_path': '/qdIMHd4sEfJSckfVJfKQvisL02a.jpg',\n",
       "  'genre_ids': [35, 18, 10749],\n",
       "  'id': 13,\n",
       "  'original_language': 'en',\n",
       "  'original_title': 'Forrest Gump',\n",
       "  'overview': 'A man with a low IQ has accomplished great things in his life and been present during significant historic events—in each case, far exceeding what anyone imagined he could do. But despite all he has achieved, his one true love eludes him.',\n",
       "  'popularity': 114.062,\n",
       "  'poster_path': '/arw2vcBveWOVZr6pxd9XTd1TdQa.jpg',\n",
       "  'release_date': '1994-06-23',\n",
       "  'title': 'Forrest Gump',\n",
       "  'video': False,\n",
       "  'vote_average': 8.476,\n",
       "  'vote_count': 26346},\n",
       " {'adult': False,\n",
       "  'backdrop_path': '/Adrip2Jqzw56KeuV2nAxucKMNXA.jpg',\n",
       "  'genre_ids': [37],\n",
       "  'id': 429,\n",
       "  'original_language': 'it',\n",
       "  'original_title': 'Il buono, il brutto, il cattivo',\n",
       "  'overview': 'While the Civil War rages on between the Union and the Confederacy, three men – a quiet loner, a ruthless hitman, and a Mexican bandit – comb the American Southwest in search of a strongbox containing $200,000 in stolen gold.',\n",
       "  'popularity': 76.085,\n",
       "  'poster_path': '/bX2xnavhMYjWDoZp1VM6VnU1xwe.jpg',\n",
       "  'release_date': '1966-12-22',\n",
       "  'title': 'The Good, the Bad and the Ugly',\n",
       "  'video': False,\n",
       "  'vote_average': 8.5,\n",
       "  'vote_count': 8142},\n",
       " {'adult': False,\n",
       "  'backdrop_path': '/sw7mordbZxgITU877yTpZCud90M.jpg',\n",
       "  'genre_ids': [18, 80],\n",
       "  'id': 769,\n",
       "  'original_language': 'en',\n",
       "  'original_title': 'GoodFellas',\n",
       "  'overview': 'The true story of Henry Hill, a half-Irish, half-Sicilian Brooklyn kid who is adopted by neighbourhood gangsters at an early age and climbs the ranks of a Mafia family under the guidance of Jimmy Conway.',\n",
       "  'popularity': 60.498,\n",
       "  'poster_path': '/aKuFiU82s5ISJpGZp7YkIr3kCUd.jpg',\n",
       "  'release_date': '1990-09-12',\n",
       "  'title': 'GoodFellas',\n",
       "  'video': False,\n",
       "  'vote_average': 8.466,\n",
       "  'vote_count': 12248},\n",
       " {'adult': False,\n",
       "  'backdrop_path': '/dlC0ed9Ugh3FzydnkBtV5lRXUu4.jpg',\n",
       "  'genre_ids': [16, 18, 10752],\n",
       "  'id': 12477,\n",
       "  'original_language': 'ja',\n",
       "  'original_title': '火垂るの墓',\n",
       "  'overview': 'In the final months of World War II, 14-year-old Seita and his sister Setsuko are orphaned when their mother is killed during an air raid in Kobe, Japan. After a falling out with their aunt, they move into an abandoned bomb shelter. With no surviving relatives and their emergency rations depleted, Seita and Setsuko struggle to survive.',\n",
       "  'popularity': 0.6,\n",
       "  'poster_path': '/k9tv1rXZbOhH7eiCk378x61kNQ1.jpg',\n",
       "  'release_date': '1988-04-16',\n",
       "  'title': 'Grave of the Fireflies',\n",
       "  'video': False,\n",
       "  'vote_average': 8.464,\n",
       "  'vote_count': 5160},\n",
       " {'adult': False,\n",
       "  'backdrop_path': '/zoVeIgKzGJzpdG6Gwnr7iOYfIMU.jpg',\n",
       "  'genre_ids': [18, 10749],\n",
       "  'id': 11216,\n",
       "  'original_language': 'it',\n",
       "  'original_title': 'Nuovo Cinema Paradiso',\n",
       "  'overview': \"A filmmaker recalls his childhood, when he fell in love with the movies at his village's theater and formed a deep friendship with the theater's projectionist.\",\n",
       "  'popularity': 38.496,\n",
       "  'poster_path': '/8SRUfRUi6x4O68n0VCbDNRa6iGL.jpg',\n",
       "  'release_date': '1988-11-17',\n",
       "  'title': 'Cinema Paradiso',\n",
       "  'video': False,\n",
       "  'vote_average': 8.455,\n",
       "  'vote_count': 4150},\n",
       " {'adult': False,\n",
       "  'backdrop_path': '/gavyCu1UaTaTNPsVaGXT6pe5u24.jpg',\n",
       "  'genre_ids': [35, 18],\n",
       "  'id': 637,\n",
       "  'original_language': 'it',\n",
       "  'original_title': 'La vita è bella',\n",
       "  'overview': 'A touching story of an Italian book seller of Jewish ancestry who lives in his own little fairy tale. His creative and happy life would come to an abrupt halt when his entire family is deported to a concentration camp during World War II. While locked up he tries to convince his son that the whole thing is just a game.',\n",
       "  'popularity': 48.848,\n",
       "  'poster_path': '/74hLDKjD5aGYOotO6esUVaeISa2.jpg',\n",
       "  'release_date': '1997-12-20',\n",
       "  'title': 'Life Is Beautiful',\n",
       "  'video': False,\n",
       "  'vote_average': 8.453,\n",
       "  'vote_count': 12629},\n",
       " {'adult': False,\n",
       "  'backdrop_path': '/qvZ91FwMq6O47VViAr8vZNQz3WI.jpg',\n",
       "  'genre_ids': [28, 18],\n",
       "  'id': 346,\n",
       "  'original_language': 'ja',\n",
       "  'original_title': '七人の侍',\n",
       "  'overview': \"A samurai answers a village's request for protection after he falls on hard times. The town needs protection from bandits, so the samurai gathers six others to help him teach the people how to defend themselves, and the villagers provide the soldiers with food.\",\n",
       "  'popularity': 37.684,\n",
       "  'poster_path': '/8OKmBV5BUFzmozIC3pPWKHy17kx.jpg',\n",
       "  'release_date': '1954-04-26',\n",
       "  'title': 'Seven Samurai',\n",
       "  'video': False,\n",
       "  'vote_average': 8.453,\n",
       "  'vote_count': 3435}]"
      ]
     },
     "execution_count": 145,
     "metadata": {},
     "output_type": "execute_result"
    }
   ],
   "source": [
    "response.json()[\"results\"]"
   ]
  },
  {
   "cell_type": "code",
   "execution_count": null,
   "id": "22554282-dfbb-4ce1-9b04-a5b38f30e066",
   "metadata": {},
   "outputs": [],
   "source": []
  },
  {
   "cell_type": "code",
   "execution_count": null,
   "id": "7116f59c-6bd9-4313-90d9-19eb72ed82b3",
   "metadata": {},
   "outputs": [],
   "source": []
  },
  {
   "cell_type": "code",
   "execution_count": null,
   "id": "47dbf79b-b6f8-41db-b968-dbc6630a4575",
   "metadata": {},
   "outputs": [],
   "source": []
  },
  {
   "cell_type": "code",
   "execution_count": 146,
   "id": "76935993-7468-4260-b641-ba924e2b2555",
   "metadata": {},
   "outputs": [
    {
     "data": {
      "text/html": [
       "<div>\n",
       "<style scoped>\n",
       "    .dataframe tbody tr th:only-of-type {\n",
       "        vertical-align: middle;\n",
       "    }\n",
       "\n",
       "    .dataframe tbody tr th {\n",
       "        vertical-align: top;\n",
       "    }\n",
       "\n",
       "    .dataframe thead th {\n",
       "        text-align: right;\n",
       "    }\n",
       "</style>\n",
       "<table border=\"1\" class=\"dataframe\">\n",
       "  <thead>\n",
       "    <tr style=\"text-align: right;\">\n",
       "      <th></th>\n",
       "      <th>genre_ids</th>\n",
       "      <th>title</th>\n",
       "      <th>overview</th>\n",
       "    </tr>\n",
       "  </thead>\n",
       "  <tbody>\n",
       "    <tr>\n",
       "      <th>8</th>\n",
       "      <td>[35, 53, 18]</td>\n",
       "      <td>Parasite</td>\n",
       "      <td>All unemployed, Ki-taek's family takes peculia...</td>\n",
       "    </tr>\n",
       "    <tr>\n",
       "      <th>12</th>\n",
       "      <td>[12, 14, 28]</td>\n",
       "      <td>The Lord of the Rings: The Return of the King</td>\n",
       "      <td>Aragorn is revealed as the heir to the ancient...</td>\n",
       "    </tr>\n",
       "    <tr>\n",
       "      <th>3</th>\n",
       "      <td>[18, 36, 10752]</td>\n",
       "      <td>Schindler's List</td>\n",
       "      <td>The true story of how businessman Oskar Schind...</td>\n",
       "    </tr>\n",
       "    <tr>\n",
       "      <th>6</th>\n",
       "      <td>[35, 18, 10749]</td>\n",
       "      <td>Dilwale Dulhania Le Jayenge</td>\n",
       "      <td>Raj is a rich, carefree, happy-go-lucky second...</td>\n",
       "    </tr>\n",
       "    <tr>\n",
       "      <th>14</th>\n",
       "      <td>[37]</td>\n",
       "      <td>The Good, the Bad and the Ugly</td>\n",
       "      <td>While the Civil War rages on between the Union...</td>\n",
       "    </tr>\n",
       "    <tr>\n",
       "      <th>11</th>\n",
       "      <td>[53, 80]</td>\n",
       "      <td>Pulp Fiction</td>\n",
       "      <td>A burger-loving hit man, his philosophical par...</td>\n",
       "    </tr>\n",
       "    <tr>\n",
       "      <th>15</th>\n",
       "      <td>[18, 80]</td>\n",
       "      <td>GoodFellas</td>\n",
       "      <td>The true story of Henry Hill, a half-Irish, ha...</td>\n",
       "    </tr>\n",
       "    <tr>\n",
       "      <th>2</th>\n",
       "      <td>[18, 80]</td>\n",
       "      <td>The Godfather Part II</td>\n",
       "      <td>In the continuing saga of the Corleone crime f...</td>\n",
       "    </tr>\n",
       "    <tr>\n",
       "      <th>9</th>\n",
       "      <td>[14, 18, 80]</td>\n",
       "      <td>The Green Mile</td>\n",
       "      <td>A supernatural tale set on death row in a Sout...</td>\n",
       "    </tr>\n",
       "    <tr>\n",
       "      <th>19</th>\n",
       "      <td>[28, 18]</td>\n",
       "      <td>Seven Samurai</td>\n",
       "      <td>A samurai answers a village's request for prot...</td>\n",
       "    </tr>\n",
       "  </tbody>\n",
       "</table>\n",
       "</div>"
      ],
      "text/plain": [
       "          genre_ids                                          title  \\\n",
       "8      [35, 53, 18]                                       Parasite   \n",
       "12     [12, 14, 28]  The Lord of the Rings: The Return of the King   \n",
       "3   [18, 36, 10752]                               Schindler's List   \n",
       "6   [35, 18, 10749]                    Dilwale Dulhania Le Jayenge   \n",
       "14             [37]                 The Good, the Bad and the Ugly   \n",
       "11         [53, 80]                                   Pulp Fiction   \n",
       "15         [18, 80]                                     GoodFellas   \n",
       "2          [18, 80]                          The Godfather Part II   \n",
       "9      [14, 18, 80]                                 The Green Mile   \n",
       "19         [28, 18]                                  Seven Samurai   \n",
       "\n",
       "                                             overview  \n",
       "8   All unemployed, Ki-taek's family takes peculia...  \n",
       "12  Aragorn is revealed as the heir to the ancient...  \n",
       "3   The true story of how businessman Oskar Schind...  \n",
       "6   Raj is a rich, carefree, happy-go-lucky second...  \n",
       "14  While the Civil War rages on between the Union...  \n",
       "11  A burger-loving hit man, his philosophical par...  \n",
       "15  The true story of Henry Hill, a half-Irish, ha...  \n",
       "2   In the continuing saga of the Corleone crime f...  \n",
       "9   A supernatural tale set on death row in a Sout...  \n",
       "19  A samurai answers a village's request for prot...  "
      ]
     },
     "execution_count": 146,
     "metadata": {},
     "output_type": "execute_result"
    }
   ],
   "source": [
    "movies = pd.DataFrame(response.json()[\"results\"])[['genre_ids','title','overview']]\n",
    "movies.sample(10)"
   ]
  },
  {
   "cell_type": "code",
   "execution_count": null,
   "id": "c05ed47d-36e4-452f-b6da-e144cddafe9b",
   "metadata": {},
   "outputs": [],
   "source": []
  },
  {
   "cell_type": "code",
   "execution_count": 147,
   "id": "2a9e3a80-f35a-4ee8-b2cb-73e5393a1507",
   "metadata": {},
   "outputs": [
    {
     "data": {
      "text/plain": [
       "array(['Framed in the 1940s for the double murder of his wife and her lover, upstanding banker Andy Dufresne begins a new life at the Shawshank prison, where he puts his accounting skills to work for an amoral warden. During his long stretch in prison, Dufresne comes to be admired by the other inmates -- including an older prisoner named Red -- for his integrity and unquenchable sense of hope.',\n",
       "       'Spanning the years 1945 to 1955, a chronicle of the fictional Italian-American Corleone crime family. When organized crime family patriarch, Vito Corleone barely survives an attempt on his life, his youngest son, Michael steps in to take care of the would-be killers, launching a campaign of bloody revenge.',\n",
       "       'In the continuing saga of the Corleone crime family, a young Vito Corleone grows up in Sicily and in 1910s New York. In the 1950s, Michael Corleone attempts to expand the family business into Las Vegas, Hollywood and Cuba.',\n",
       "       'The true story of how businessman Oskar Schindler saved over a thousand Jewish lives from the Nazis while they worked as slaves in his factory during World War II.',\n",
       "       'A young girl, Chihiro, becomes trapped in a strange new world of spirits. When her parents undergo a mysterious transformation, she must call upon the courage she never knew she had to free her family.',\n",
       "       \"The defense and the prosecution have rested and the jury is filing into the jury room to decide if a young Spanish-American is guilty or innocent of murdering his father. What begins as an open and shut case soon becomes a mini-drama of each of the jurors' prejudices and preconceptions about the trial, the accused, and each other.\",\n",
       "       'Raj is a rich, carefree, happy-go-lucky second generation NRI. Simran is the daughter of Chaudhary Baldev Singh, who in spite of being an NRI is very strict about adherence to Indian values. Simran has left for India to be married to her childhood fiancé. Raj leaves for India with a mission at his hands, to claim his lady love under the noses of her whole family. Thus begins a saga.',\n",
       "       'Batman raises the stakes in his war on crime. With the help of Lt. Jim Gordon and District Attorney Harvey Dent, Batman sets out to dismantle the remaining criminal organizations that plague the streets. The partnership proves to be effective, but they soon find themselves prey to a reign of chaos unleashed by a rising criminal mastermind known to the terrified citizens of Gotham as the Joker.',\n",
       "       \"All unemployed, Ki-taek's family takes peculiar interest in the wealthy and glamorous Parks for their livelihood until they get entangled in an unexpected incident.\",\n",
       "       \"A supernatural tale set on death row in a Southern prison, where gentle giant John Coffey possesses the mysterious power to heal people's ailments. When the cell block's head guard, Paul Edgecomb, recognizes Coffey's miraculous gift, he tries desperately to help stave off the condemned man's execution.\",\n",
       "       'High schoolers Mitsuha and Taki are complete strangers living separate lives. But one night, they suddenly switch places. Mitsuha wakes up in Taki’s body, and he in hers. This bizarre occurrence continues to happen randomly, and the two must adjust their lives around each other.',\n",
       "       \"A burger-loving hit man, his philosophical partner, a drug-addled gangster's moll and a washed-up boxer converge in this sprawling, comedic crime caper. Their adventures unfurl in three stories that ingeniously trip back and forth in time.\",\n",
       "       \"Aragorn is revealed as the heir to the ancient kings as he, Gandalf and the other members of the broken fellowship struggle to save Gondor from Sauron's forces. Meanwhile, Frodo and Sam take the ring closer to the heart of Mordor, the dark lord's realm.\",\n",
       "       'A man with a low IQ has accomplished great things in his life and been present during significant historic events—in each case, far exceeding what anyone imagined he could do. But despite all he has achieved, his one true love eludes him.',\n",
       "       'While the Civil War rages on between the Union and the Confederacy, three men – a quiet loner, a ruthless hitman, and a Mexican bandit – comb the American Southwest in search of a strongbox containing $200,000 in stolen gold.',\n",
       "       'The true story of Henry Hill, a half-Irish, half-Sicilian Brooklyn kid who is adopted by neighbourhood gangsters at an early age and climbs the ranks of a Mafia family under the guidance of Jimmy Conway.',\n",
       "       'In the final months of World War II, 14-year-old Seita and his sister Setsuko are orphaned when their mother is killed during an air raid in Kobe, Japan. After a falling out with their aunt, they move into an abandoned bomb shelter. With no surviving relatives and their emergency rations depleted, Seita and Setsuko struggle to survive.',\n",
       "       \"A filmmaker recalls his childhood, when he fell in love with the movies at his village's theater and formed a deep friendship with the theater's projectionist.\",\n",
       "       'A touching story of an Italian book seller of Jewish ancestry who lives in his own little fairy tale. His creative and happy life would come to an abrupt halt when his entire family is deported to a concentration camp during World War II. While locked up he tries to convince his son that the whole thing is just a game.',\n",
       "       \"A samurai answers a village's request for protection after he falls on hard times. The town needs protection from bandits, so the samurai gathers six others to help him teach the people how to defend themselves, and the villagers provide the soldiers with food.\"],\n",
       "      dtype=object)"
      ]
     },
     "execution_count": 147,
     "metadata": {},
     "output_type": "execute_result"
    }
   ],
   "source": [
    "movies['overview'].values"
   ]
  },
  {
   "cell_type": "code",
   "execution_count": null,
   "id": "c032ea9a-131c-4956-b9f1-3a34ce1b9d95",
   "metadata": {},
   "outputs": [],
   "source": []
  },
  {
   "cell_type": "code",
   "execution_count": 148,
   "id": "77f84c0f-3493-42e9-9181-61dab822bfe2",
   "metadata": {},
   "outputs": [],
   "source": [
    "import warnings\n",
    "warnings.filterwarnings(\"ignore\", category=FutureWarning)"
   ]
  },
  {
   "cell_type": "code",
   "execution_count": 149,
   "id": "b4a2664f-7b1c-421d-b262-326549063d4c",
   "metadata": {},
   "outputs": [
    {
     "data": {
      "text/html": [
       "<div>\n",
       "<style scoped>\n",
       "    .dataframe tbody tr th:only-of-type {\n",
       "        vertical-align: middle;\n",
       "    }\n",
       "\n",
       "    .dataframe tbody tr th {\n",
       "        vertical-align: top;\n",
       "    }\n",
       "\n",
       "    .dataframe thead th {\n",
       "        text-align: right;\n",
       "    }\n",
       "</style>\n",
       "<table border=\"1\" class=\"dataframe\">\n",
       "  <thead>\n",
       "    <tr style=\"text-align: right;\">\n",
       "      <th></th>\n",
       "      <th>genre_ids</th>\n",
       "      <th>title</th>\n",
       "      <th>overview</th>\n",
       "    </tr>\n",
       "  </thead>\n",
       "  <tbody>\n",
       "    <tr>\n",
       "      <th>0</th>\n",
       "      <td>[18, 80]</td>\n",
       "      <td>The Shawshank Redemption</td>\n",
       "      <td>Framed in the 1940s for the double murder of h...</td>\n",
       "    </tr>\n",
       "    <tr>\n",
       "      <th>1</th>\n",
       "      <td>[18, 80]</td>\n",
       "      <td>The Godfather</td>\n",
       "      <td>Spanning the years 1945 to 1955, a chronicle o...</td>\n",
       "    </tr>\n",
       "    <tr>\n",
       "      <th>2</th>\n",
       "      <td>[18, 80]</td>\n",
       "      <td>The Godfather Part II</td>\n",
       "      <td>In the continuing saga of the Corleone crime f...</td>\n",
       "    </tr>\n",
       "    <tr>\n",
       "      <th>3</th>\n",
       "      <td>[18, 36, 10752]</td>\n",
       "      <td>Schindler's List</td>\n",
       "      <td>The true story of how businessman Oskar Schind...</td>\n",
       "    </tr>\n",
       "    <tr>\n",
       "      <th>4</th>\n",
       "      <td>[16, 10751, 14]</td>\n",
       "      <td>Spirited Away</td>\n",
       "      <td>A young girl, Chihiro, becomes trapped in a st...</td>\n",
       "    </tr>\n",
       "  </tbody>\n",
       "</table>\n",
       "</div>"
      ],
      "text/plain": [
       "         genre_ids                     title  \\\n",
       "0         [18, 80]  The Shawshank Redemption   \n",
       "1         [18, 80]             The Godfather   \n",
       "2         [18, 80]     The Godfather Part II   \n",
       "3  [18, 36, 10752]          Schindler's List   \n",
       "4  [16, 10751, 14]             Spirited Away   \n",
       "\n",
       "                                            overview  \n",
       "0  Framed in the 1940s for the double murder of h...  \n",
       "1  Spanning the years 1945 to 1955, a chronicle o...  \n",
       "2  In the continuing saga of the Corleone crime f...  \n",
       "3  The true story of how businessman Oskar Schind...  \n",
       "4  A young girl, Chihiro, becomes trapped in a st...  "
      ]
     },
     "execution_count": 149,
     "metadata": {},
     "output_type": "execute_result"
    }
   ],
   "source": [
    "movies = pd.DataFrame()\n",
    "for page_no in range(1, 464):\n",
    "    response = requests.get(f\"https://api.themoviedb.org/3/movie/top_rated?api_key={api_key}&language=en-US&page={page_no}\")\n",
    "    tmp_df = pd.DataFrame(response.json()[\"results\"])[['genre_ids', 'title', 'overview']]\n",
    "    movies = movies.append(tmp_df, ignore_index=True)\n",
    "movies.head()"
   ]
  },
  {
   "cell_type": "code",
   "execution_count": 150,
   "id": "c5e82e91-b399-41ac-802c-49413676dbf8",
   "metadata": {},
   "outputs": [
    {
     "data": {
      "text/plain": [
       "(9251, 3)"
      ]
     },
     "execution_count": 150,
     "metadata": {},
     "output_type": "execute_result"
    }
   ],
   "source": [
    "movies.shape"
   ]
  },
  {
   "cell_type": "code",
   "execution_count": 151,
   "id": "c9e543f9-ca49-4a48-956c-27bcac346828",
   "metadata": {},
   "outputs": [],
   "source": [
    "response = requests.get(f\"https://api.themoviedb.org/3/genre/movie/list?api_key={api_key}&language=en-US\")"
   ]
  },
  {
   "cell_type": "code",
   "execution_count": 152,
   "id": "33c4f907-4af6-4972-8222-cbd9712ba0dc",
   "metadata": {},
   "outputs": [
    {
     "data": {
      "text/plain": [
       "{'genres': [{'id': 28, 'name': 'Action'},\n",
       "  {'id': 12, 'name': 'Adventure'},\n",
       "  {'id': 16, 'name': 'Animation'},\n",
       "  {'id': 35, 'name': 'Comedy'},\n",
       "  {'id': 80, 'name': 'Crime'},\n",
       "  {'id': 99, 'name': 'Documentary'},\n",
       "  {'id': 18, 'name': 'Drama'},\n",
       "  {'id': 10751, 'name': 'Family'},\n",
       "  {'id': 14, 'name': 'Fantasy'},\n",
       "  {'id': 36, 'name': 'History'},\n",
       "  {'id': 27, 'name': 'Horror'},\n",
       "  {'id': 10402, 'name': 'Music'},\n",
       "  {'id': 9648, 'name': 'Mystery'},\n",
       "  {'id': 10749, 'name': 'Romance'},\n",
       "  {'id': 878, 'name': 'Science Fiction'},\n",
       "  {'id': 10770, 'name': 'TV Movie'},\n",
       "  {'id': 53, 'name': 'Thriller'},\n",
       "  {'id': 10752, 'name': 'War'},\n",
       "  {'id': 37, 'name': 'Western'}]}"
      ]
     },
     "execution_count": 152,
     "metadata": {},
     "output_type": "execute_result"
    }
   ],
   "source": [
    "response.json()"
   ]
  },
  {
   "cell_type": "code",
   "execution_count": 153,
   "id": "1bcefb40-44ba-418a-b0fa-c959fd1a42f0",
   "metadata": {},
   "outputs": [
    {
     "data": {
      "text/plain": [
       "[{'id': 28, 'name': 'Action'},\n",
       " {'id': 12, 'name': 'Adventure'},\n",
       " {'id': 16, 'name': 'Animation'},\n",
       " {'id': 35, 'name': 'Comedy'},\n",
       " {'id': 80, 'name': 'Crime'},\n",
       " {'id': 99, 'name': 'Documentary'},\n",
       " {'id': 18, 'name': 'Drama'},\n",
       " {'id': 10751, 'name': 'Family'},\n",
       " {'id': 14, 'name': 'Fantasy'},\n",
       " {'id': 36, 'name': 'History'},\n",
       " {'id': 27, 'name': 'Horror'},\n",
       " {'id': 10402, 'name': 'Music'},\n",
       " {'id': 9648, 'name': 'Mystery'},\n",
       " {'id': 10749, 'name': 'Romance'},\n",
       " {'id': 878, 'name': 'Science Fiction'},\n",
       " {'id': 10770, 'name': 'TV Movie'},\n",
       " {'id': 53, 'name': 'Thriller'},\n",
       " {'id': 10752, 'name': 'War'},\n",
       " {'id': 37, 'name': 'Western'}]"
      ]
     },
     "execution_count": 153,
     "metadata": {},
     "output_type": "execute_result"
    }
   ],
   "source": [
    "response.json()['genres']"
   ]
  },
  {
   "cell_type": "code",
   "execution_count": 154,
   "id": "e0eb7aaf-d19f-4552-b5ce-0c8960668df4",
   "metadata": {},
   "outputs": [
    {
     "data": {
      "text/html": [
       "<div>\n",
       "<style scoped>\n",
       "    .dataframe tbody tr th:only-of-type {\n",
       "        vertical-align: middle;\n",
       "    }\n",
       "\n",
       "    .dataframe tbody tr th {\n",
       "        vertical-align: top;\n",
       "    }\n",
       "\n",
       "    .dataframe thead th {\n",
       "        text-align: right;\n",
       "    }\n",
       "</style>\n",
       "<table border=\"1\" class=\"dataframe\">\n",
       "  <thead>\n",
       "    <tr style=\"text-align: right;\">\n",
       "      <th></th>\n",
       "      <th>id</th>\n",
       "      <th>name</th>\n",
       "    </tr>\n",
       "  </thead>\n",
       "  <tbody>\n",
       "    <tr>\n",
       "      <th>0</th>\n",
       "      <td>28</td>\n",
       "      <td>Action</td>\n",
       "    </tr>\n",
       "    <tr>\n",
       "      <th>1</th>\n",
       "      <td>12</td>\n",
       "      <td>Adventure</td>\n",
       "    </tr>\n",
       "    <tr>\n",
       "      <th>2</th>\n",
       "      <td>16</td>\n",
       "      <td>Animation</td>\n",
       "    </tr>\n",
       "    <tr>\n",
       "      <th>3</th>\n",
       "      <td>35</td>\n",
       "      <td>Comedy</td>\n",
       "    </tr>\n",
       "    <tr>\n",
       "      <th>4</th>\n",
       "      <td>80</td>\n",
       "      <td>Crime</td>\n",
       "    </tr>\n",
       "    <tr>\n",
       "      <th>5</th>\n",
       "      <td>99</td>\n",
       "      <td>Documentary</td>\n",
       "    </tr>\n",
       "    <tr>\n",
       "      <th>6</th>\n",
       "      <td>18</td>\n",
       "      <td>Drama</td>\n",
       "    </tr>\n",
       "    <tr>\n",
       "      <th>7</th>\n",
       "      <td>10751</td>\n",
       "      <td>Family</td>\n",
       "    </tr>\n",
       "    <tr>\n",
       "      <th>8</th>\n",
       "      <td>14</td>\n",
       "      <td>Fantasy</td>\n",
       "    </tr>\n",
       "    <tr>\n",
       "      <th>9</th>\n",
       "      <td>36</td>\n",
       "      <td>History</td>\n",
       "    </tr>\n",
       "    <tr>\n",
       "      <th>10</th>\n",
       "      <td>27</td>\n",
       "      <td>Horror</td>\n",
       "    </tr>\n",
       "    <tr>\n",
       "      <th>11</th>\n",
       "      <td>10402</td>\n",
       "      <td>Music</td>\n",
       "    </tr>\n",
       "    <tr>\n",
       "      <th>12</th>\n",
       "      <td>9648</td>\n",
       "      <td>Mystery</td>\n",
       "    </tr>\n",
       "    <tr>\n",
       "      <th>13</th>\n",
       "      <td>10749</td>\n",
       "      <td>Romance</td>\n",
       "    </tr>\n",
       "    <tr>\n",
       "      <th>14</th>\n",
       "      <td>878</td>\n",
       "      <td>Science Fiction</td>\n",
       "    </tr>\n",
       "    <tr>\n",
       "      <th>15</th>\n",
       "      <td>10770</td>\n",
       "      <td>TV Movie</td>\n",
       "    </tr>\n",
       "    <tr>\n",
       "      <th>16</th>\n",
       "      <td>53</td>\n",
       "      <td>Thriller</td>\n",
       "    </tr>\n",
       "    <tr>\n",
       "      <th>17</th>\n",
       "      <td>10752</td>\n",
       "      <td>War</td>\n",
       "    </tr>\n",
       "    <tr>\n",
       "      <th>18</th>\n",
       "      <td>37</td>\n",
       "      <td>Western</td>\n",
       "    </tr>\n",
       "  </tbody>\n",
       "</table>\n",
       "</div>"
      ],
      "text/plain": [
       "       id             name\n",
       "0      28           Action\n",
       "1      12        Adventure\n",
       "2      16        Animation\n",
       "3      35           Comedy\n",
       "4      80            Crime\n",
       "5      99      Documentary\n",
       "6      18            Drama\n",
       "7   10751           Family\n",
       "8      14          Fantasy\n",
       "9      36          History\n",
       "10     27           Horror\n",
       "11  10402            Music\n",
       "12   9648          Mystery\n",
       "13  10749          Romance\n",
       "14    878  Science Fiction\n",
       "15  10770         TV Movie\n",
       "16     53         Thriller\n",
       "17  10752              War\n",
       "18     37          Western"
      ]
     },
     "execution_count": 154,
     "metadata": {},
     "output_type": "execute_result"
    }
   ],
   "source": [
    "genres = pd.DataFrame(response.json()['genres'])\n",
    "genres"
   ]
  },
  {
   "cell_type": "code",
   "execution_count": 162,
   "id": "2832d791-c8ba-48be-a8d5-eba20a4d1a9c",
   "metadata": {},
   "outputs": [],
   "source": [
    "genres.to_csv('Datasets/Genres.csv')"
   ]
  },
  {
   "cell_type": "code",
   "execution_count": 155,
   "id": "048d3b49-43f2-4747-be55-f2f1c91f88a6",
   "metadata": {},
   "outputs": [],
   "source": [
    "def merge_genres(genre_ids):\n",
    "    genre_names = []\n",
    "    for genre_id in genre_ids:\n",
    "        genre_name = genres[genres['id'] == genre_id]['name'].values[0]\n",
    "        genre_names.append(genre_name)\n",
    "    return ','.join(genre_names)\n",
    "\n",
    "movies['genres'] = movies['genre_ids'].apply(merge_genres)"
   ]
  },
  {
   "cell_type": "code",
   "execution_count": 156,
   "id": "d63fdd8e-936f-4e20-a52c-97b723110c34",
   "metadata": {},
   "outputs": [
    {
     "data": {
      "text/html": [
       "<div>\n",
       "<style scoped>\n",
       "    .dataframe tbody tr th:only-of-type {\n",
       "        vertical-align: middle;\n",
       "    }\n",
       "\n",
       "    .dataframe tbody tr th {\n",
       "        vertical-align: top;\n",
       "    }\n",
       "\n",
       "    .dataframe thead th {\n",
       "        text-align: right;\n",
       "    }\n",
       "</style>\n",
       "<table border=\"1\" class=\"dataframe\">\n",
       "  <thead>\n",
       "    <tr style=\"text-align: right;\">\n",
       "      <th></th>\n",
       "      <th>genre_ids</th>\n",
       "      <th>title</th>\n",
       "      <th>overview</th>\n",
       "      <th>genres</th>\n",
       "    </tr>\n",
       "  </thead>\n",
       "  <tbody>\n",
       "    <tr>\n",
       "      <th>0</th>\n",
       "      <td>[18, 80]</td>\n",
       "      <td>The Shawshank Redemption</td>\n",
       "      <td>Framed in the 1940s for the double murder of h...</td>\n",
       "      <td>Drama,Crime</td>\n",
       "    </tr>\n",
       "    <tr>\n",
       "      <th>1</th>\n",
       "      <td>[18, 80]</td>\n",
       "      <td>The Godfather</td>\n",
       "      <td>Spanning the years 1945 to 1955, a chronicle o...</td>\n",
       "      <td>Drama,Crime</td>\n",
       "    </tr>\n",
       "    <tr>\n",
       "      <th>2</th>\n",
       "      <td>[18, 80]</td>\n",
       "      <td>The Godfather Part II</td>\n",
       "      <td>In the continuing saga of the Corleone crime f...</td>\n",
       "      <td>Drama,Crime</td>\n",
       "    </tr>\n",
       "    <tr>\n",
       "      <th>3</th>\n",
       "      <td>[18, 36, 10752]</td>\n",
       "      <td>Schindler's List</td>\n",
       "      <td>The true story of how businessman Oskar Schind...</td>\n",
       "      <td>Drama,History,War</td>\n",
       "    </tr>\n",
       "    <tr>\n",
       "      <th>4</th>\n",
       "      <td>[16, 10751, 14]</td>\n",
       "      <td>Spirited Away</td>\n",
       "      <td>A young girl, Chihiro, becomes trapped in a st...</td>\n",
       "      <td>Animation,Family,Fantasy</td>\n",
       "    </tr>\n",
       "  </tbody>\n",
       "</table>\n",
       "</div>"
      ],
      "text/plain": [
       "         genre_ids                     title  \\\n",
       "0         [18, 80]  The Shawshank Redemption   \n",
       "1         [18, 80]             The Godfather   \n",
       "2         [18, 80]     The Godfather Part II   \n",
       "3  [18, 36, 10752]          Schindler's List   \n",
       "4  [16, 10751, 14]             Spirited Away   \n",
       "\n",
       "                                            overview                    genres  \n",
       "0  Framed in the 1940s for the double murder of h...               Drama,Crime  \n",
       "1  Spanning the years 1945 to 1955, a chronicle o...               Drama,Crime  \n",
       "2  In the continuing saga of the Corleone crime f...               Drama,Crime  \n",
       "3  The true story of how businessman Oskar Schind...         Drama,History,War  \n",
       "4  A young girl, Chihiro, becomes trapped in a st...  Animation,Family,Fantasy  "
      ]
     },
     "execution_count": 156,
     "metadata": {},
     "output_type": "execute_result"
    }
   ],
   "source": [
    "movies.head()"
   ]
  },
  {
   "cell_type": "code",
   "execution_count": 157,
   "id": "e28c083d-4001-4a7d-bac4-1e443b7e2eaf",
   "metadata": {},
   "outputs": [
    {
     "data": {
      "text/html": [
       "<div>\n",
       "<style scoped>\n",
       "    .dataframe tbody tr th:only-of-type {\n",
       "        vertical-align: middle;\n",
       "    }\n",
       "\n",
       "    .dataframe tbody tr th {\n",
       "        vertical-align: top;\n",
       "    }\n",
       "\n",
       "    .dataframe thead th {\n",
       "        text-align: right;\n",
       "    }\n",
       "</style>\n",
       "<table border=\"1\" class=\"dataframe\">\n",
       "  <thead>\n",
       "    <tr style=\"text-align: right;\">\n",
       "      <th></th>\n",
       "      <th>title</th>\n",
       "      <th>overview</th>\n",
       "      <th>genres</th>\n",
       "    </tr>\n",
       "  </thead>\n",
       "  <tbody>\n",
       "    <tr>\n",
       "      <th>0</th>\n",
       "      <td>The Shawshank Redemption</td>\n",
       "      <td>Framed in the 1940s for the double murder of h...</td>\n",
       "      <td>Drama,Crime</td>\n",
       "    </tr>\n",
       "    <tr>\n",
       "      <th>1</th>\n",
       "      <td>The Godfather</td>\n",
       "      <td>Spanning the years 1945 to 1955, a chronicle o...</td>\n",
       "      <td>Drama,Crime</td>\n",
       "    </tr>\n",
       "    <tr>\n",
       "      <th>2</th>\n",
       "      <td>The Godfather Part II</td>\n",
       "      <td>In the continuing saga of the Corleone crime f...</td>\n",
       "      <td>Drama,Crime</td>\n",
       "    </tr>\n",
       "    <tr>\n",
       "      <th>3</th>\n",
       "      <td>Schindler's List</td>\n",
       "      <td>The true story of how businessman Oskar Schind...</td>\n",
       "      <td>Drama,History,War</td>\n",
       "    </tr>\n",
       "    <tr>\n",
       "      <th>4</th>\n",
       "      <td>Spirited Away</td>\n",
       "      <td>A young girl, Chihiro, becomes trapped in a st...</td>\n",
       "      <td>Animation,Family,Fantasy</td>\n",
       "    </tr>\n",
       "  </tbody>\n",
       "</table>\n",
       "</div>"
      ],
      "text/plain": [
       "                      title  \\\n",
       "0  The Shawshank Redemption   \n",
       "1             The Godfather   \n",
       "2     The Godfather Part II   \n",
       "3          Schindler's List   \n",
       "4             Spirited Away   \n",
       "\n",
       "                                            overview                    genres  \n",
       "0  Framed in the 1940s for the double murder of h...               Drama,Crime  \n",
       "1  Spanning the years 1945 to 1955, a chronicle o...               Drama,Crime  \n",
       "2  In the continuing saga of the Corleone crime f...               Drama,Crime  \n",
       "3  The true story of how businessman Oskar Schind...         Drama,History,War  \n",
       "4  A young girl, Chihiro, becomes trapped in a st...  Animation,Family,Fantasy  "
      ]
     },
     "execution_count": 157,
     "metadata": {},
     "output_type": "execute_result"
    }
   ],
   "source": [
    "movies.drop(columns=['genre_ids'], inplace=True)\n",
    "movies.head()"
   ]
  },
  {
   "cell_type": "code",
   "execution_count": 158,
   "id": "c1ea1e90-d03c-40fa-ab41-fca3422cf4f1",
   "metadata": {},
   "outputs": [],
   "source": [
    "movies.to_csv('Datasets/TMDB_Movies.csv')"
   ]
  },
  {
   "cell_type": "code",
   "execution_count": 5,
   "id": "fc8473cc-e12a-4126-bb4b-86ba462c5946",
   "metadata": {},
   "outputs": [
    {
     "data": {
      "text/plain": [
       "(9251, 3)"
      ]
     },
     "execution_count": 5,
     "metadata": {},
     "output_type": "execute_result"
    }
   ],
   "source": [
    "movies = pd.read_csv('Datasets/TMDB_Movies.csv')[['title', 'overview','genres']]\n",
    "movies.shape"
   ]
  },
  {
   "cell_type": "code",
   "execution_count": 6,
   "id": "a14f0847-0bf3-4d45-ab6f-c2e12dd540a4",
   "metadata": {},
   "outputs": [
    {
     "data": {
      "text/html": [
       "<div>\n",
       "<style scoped>\n",
       "    .dataframe tbody tr th:only-of-type {\n",
       "        vertical-align: middle;\n",
       "    }\n",
       "\n",
       "    .dataframe tbody tr th {\n",
       "        vertical-align: top;\n",
       "    }\n",
       "\n",
       "    .dataframe thead th {\n",
       "        text-align: right;\n",
       "    }\n",
       "</style>\n",
       "<table border=\"1\" class=\"dataframe\">\n",
       "  <thead>\n",
       "    <tr style=\"text-align: right;\">\n",
       "      <th></th>\n",
       "      <th>title</th>\n",
       "      <th>overview</th>\n",
       "      <th>genres</th>\n",
       "    </tr>\n",
       "  </thead>\n",
       "  <tbody>\n",
       "    <tr>\n",
       "      <th>0</th>\n",
       "      <td>The Shawshank Redemption</td>\n",
       "      <td>Framed in the 1940s for the double murder of h...</td>\n",
       "      <td>Drama,Crime</td>\n",
       "    </tr>\n",
       "    <tr>\n",
       "      <th>1</th>\n",
       "      <td>The Godfather</td>\n",
       "      <td>Spanning the years 1945 to 1955, a chronicle o...</td>\n",
       "      <td>Drama,Crime</td>\n",
       "    </tr>\n",
       "    <tr>\n",
       "      <th>2</th>\n",
       "      <td>The Godfather Part II</td>\n",
       "      <td>In the continuing saga of the Corleone crime f...</td>\n",
       "      <td>Drama,Crime</td>\n",
       "    </tr>\n",
       "    <tr>\n",
       "      <th>3</th>\n",
       "      <td>Schindler's List</td>\n",
       "      <td>The true story of how businessman Oskar Schind...</td>\n",
       "      <td>Drama,History,War</td>\n",
       "    </tr>\n",
       "    <tr>\n",
       "      <th>4</th>\n",
       "      <td>Spirited Away</td>\n",
       "      <td>A young girl, Chihiro, becomes trapped in a st...</td>\n",
       "      <td>Animation,Family,Fantasy</td>\n",
       "    </tr>\n",
       "  </tbody>\n",
       "</table>\n",
       "</div>"
      ],
      "text/plain": [
       "                      title  \\\n",
       "0  The Shawshank Redemption   \n",
       "1             The Godfather   \n",
       "2     The Godfather Part II   \n",
       "3          Schindler's List   \n",
       "4             Spirited Away   \n",
       "\n",
       "                                            overview                    genres  \n",
       "0  Framed in the 1940s for the double murder of h...               Drama,Crime  \n",
       "1  Spanning the years 1945 to 1955, a chronicle o...               Drama,Crime  \n",
       "2  In the continuing saga of the Corleone crime f...               Drama,Crime  \n",
       "3  The true story of how businessman Oskar Schind...         Drama,History,War  \n",
       "4  A young girl, Chihiro, becomes trapped in a st...  Animation,Family,Fantasy  "
      ]
     },
     "execution_count": 6,
     "metadata": {},
     "output_type": "execute_result"
    }
   ],
   "source": [
    "movies.head()"
   ]
  },
  {
   "cell_type": "code",
   "execution_count": 7,
   "id": "f9b1d7c8-6f00-43cf-86d9-4f6dce740ad6",
   "metadata": {},
   "outputs": [
    {
     "data": {
      "text/plain": [
       "title       0\n",
       "overview    1\n",
       "genres      2\n",
       "dtype: int64"
      ]
     },
     "execution_count": 7,
     "metadata": {},
     "output_type": "execute_result"
    }
   ],
   "source": [
    "movies.isnull().sum()"
   ]
  },
  {
   "cell_type": "code",
   "execution_count": 8,
   "id": "6b119971-6992-427f-b208-efe305282ea6",
   "metadata": {},
   "outputs": [],
   "source": [
    "movies.dropna(inplace=True)"
   ]
  },
  {
   "cell_type": "code",
   "execution_count": 9,
   "id": "33d43f22-7612-4e82-aa47-1851df18af38",
   "metadata": {},
   "outputs": [
    {
     "data": {
      "text/plain": [
       "(9248, 3)"
      ]
     },
     "execution_count": 9,
     "metadata": {},
     "output_type": "execute_result"
    }
   ],
   "source": [
    "movies.shape"
   ]
  },
  {
   "cell_type": "markdown",
   "id": "45816d92-7805-4ccf-8ba4-ae62570aef2f",
   "metadata": {},
   "source": [
    "# **2. EDA**"
   ]
  },
  {
   "cell_type": "markdown",
   "id": "81657bc6-877e-4ea5-a3ef-4c0cc76abbc4",
   "metadata": {},
   "source": [
    "## 2.1 Number of Movies per Genre"
   ]
  },
  {
   "cell_type": "code",
   "execution_count": 10,
   "id": "6d7acff9-e40c-49b4-af56-ebc649bda02d",
   "metadata": {},
   "outputs": [
    {
     "data": {
      "text/plain": [
       "{'Drama': 4155,\n",
       " 'Crime': 1405,\n",
       " 'History': 426,\n",
       " 'War': 293,\n",
       " 'Animation': 841,\n",
       " 'Family': 1047,\n",
       " 'Fantasy': 1080,\n",
       " 'Comedy': 3345,\n",
       " 'Romance': 1567,\n",
       " 'Action': 2162,\n",
       " 'Thriller': 2500,\n",
       " 'Adventure': 1561,\n",
       " 'Western': 140,\n",
       " 'Music': 261,\n",
       " 'Horror': 1324,\n",
       " 'Mystery': 883,\n",
       " 'Science Fiction': 1135,\n",
       " 'TV Movie': 106}"
      ]
     },
     "execution_count": 10,
     "metadata": {},
     "output_type": "execute_result"
    }
   ],
   "source": [
    "genre_count = dict()\n",
    "for genres in movies['genres'].str.split(','):\n",
    "    for genre in genres:\n",
    "        if genre in genre_count:\n",
    "            genre_count[genre] += 1\n",
    "        else:\n",
    "            genre_count[genre] = 1\n",
    "genre_count"
   ]
  },
  {
   "cell_type": "code",
   "execution_count": 11,
   "id": "e864535b-9631-4573-88ca-43ed4d485ad5",
   "metadata": {},
   "outputs": [
    {
     "data": {
      "image/png": "[encoded data removed]",
      "text/plain": [
       "<Figure size 864x720 with 1 Axes>"
      ]
     },
     "metadata": {
      "needs_background": "light"
     },
     "output_type": "display_data"
    }
   ],
   "source": [
    "colors = sns.color_palette(\"husl\", len(genre_count))\n",
    "plt.figure(figsize=(12, 10))\n",
    "sns.barplot(x=genre_count.keys(),y=genre_count.values(), palette=colors)\n",
    "plt.xticks(rotation=90, ha='right')\n",
    "plt.title('Count of Movies by Genre')\n",
    "plt.xlabel('Genre')\n",
    "plt.ylabel('Count')\n",
    "plt.tight_layout()\n",
    "plt.show()"
   ]
  },
  {
   "cell_type": "markdown",
   "id": "240b66a5-65a6-46ee-b2fe-bdca8b417968",
   "metadata": {},
   "source": [
    "**Observations**  \n",
    "* Lowest Genre movies is TV Movie (only 106 movies)\n",
    "* Highest Genre movies is Drama (4155 movies), followed by Crime (1405)"
   ]
  },
  {
   "cell_type": "code",
   "execution_count": null,
   "id": "dc625ca4-aad2-4aac-90d2-065af207837f",
   "metadata": {},
   "outputs": [],
   "source": []
  },
  {
   "cell_type": "code",
   "execution_count": 12,
   "id": "535853cc-a3b8-472f-813b-59d47f6f7c88",
   "metadata": {},
   "outputs": [
    {
     "data": {
      "text/plain": [
       "array(['After his classmate and crush is diagnosed with a pancreatic disease, an average high schooler sets out to make the most of her final days.',\n",
       "       \"Tanjiro Kamado, joined with Inosuke Hashibira, a boy raised by boars who wears a boar's head, and Zenitsu Agatsuma, a scared boy who reveals his true power when he sleeps, boards the Infinity Train on a new mission with the Fire Hashira, Kyojuro Rengoku, to defeat a demon who has been tormenting the people and killing the demon slayers who oppose it!\",\n",
       "       'In 1930s Korea, a swindler and a young woman pose as a Japanese count and a handmaiden to seduce a Japanese heiress and steal her fortune.',\n",
       "       'After more than thirty years of service as one of the Navy’s top aviators, and dodging the advancement in rank that would ground him, Pete “Maverick” Mitchell finds himself training a detachment of TOP GUN graduates for a specialized mission the likes of which no living pilot has ever seen.',\n",
       "       \"After her werewolf lover unexpectedly dies in an accident, a woman must find a way to raise the son and daughter that she had with him. However, their inheritance of their father's traits prove to be a challenge for her.\",\n",
       "       'Returning to Earth as an imitator, the legendary Mexican artist Pedro Infante must prove that he is no longer a womanizer to enter paradise.',\n",
       "       'In Nazi-occupied France during World War II, a group of Jewish-American soldiers known as \"The Basterds\" are chosen specifically to spread fear throughout the Third Reich by scalping and brutally killing Nazis. The Basterds, lead by Lt. Aldo Raine soon cross paths with a French-Jewish teenage girl who runs a movie theater in Paris which is targeted by the soldiers.',\n",
       "       \"In the year 180, the death of emperor Marcus Aurelius throws the Roman Empire into chaos.  Maximus is one of the Roman army's most capable and trusted generals and a key advisor to the emperor.  As Marcus' devious son Commodus ascends to the throne, Maximus is set to be executed.  He escapes, but is captured by slave traders.  Renamed Spaniard and forced to become a gladiator, Maximus must battle to the death with other men for the amusement of paying audiences.\",\n",
       "       \"Jack Torrance accepts a caretaker job at the Overlook Hotel, where he, along with his wife Wendy and their son Danny, must live isolated from the rest of the world for the winter. But they aren't prepared for the madness that lurks within.\",\n",
       "       \"Despite his family’s baffling generations-old ban on music, Miguel dreams of becoming an accomplished musician like his idol, Ernesto de la Cruz. Desperate to prove his talent, Miguel finds himself in the stunning and colorful Land of the Dead following a mysterious chain of events. Along the way, he meets charming trickster Hector, and together, they set off on an extraordinary journey to unlock the real story behind Miguel's family history.\",\n",
       "       'When Leonard Vole is arrested for the sensational murder of a rich, middle-aged widow, the famous Sir Wilfrid Robarts agrees to appear on his behalf. Sir Wilfrid, recovering from a near-fatal heart attack, is supposed to be on a diet of bland, civil suits—but the lure of the criminal courts is too much for him, especially when the case is so difficult.'],\n",
       "      dtype=object)"
      ]
     },
     "execution_count": 12,
     "metadata": {},
     "output_type": "execute_result"
    }
   ],
   "source": [
    "movies.loc[100:110,'overview'].values"
   ]
  },
  {
   "cell_type": "code",
   "execution_count": null,
   "id": "f0d52a49-03a6-43bc-9bf6-be4732d6cf3a",
   "metadata": {},
   "outputs": [],
   "source": []
  },
  {
   "cell_type": "markdown",
   "id": "dd2c09db-62f2-4164-b7c2-baaf7925f97d",
   "metadata": {},
   "source": [
    "## **3. Text Cleaning**\n",
    " - Removing digits and words containing digits\n",
    " - Removing newline characters and extra spaces\n",
    " - Removing URLs\n",
    " - Removing punctuations"
   ]
  },
  {
   "cell_type": "markdown",
   "id": "8a191ec5-8c24-497a-b94a-0af842374946",
   "metadata": {},
   "source": [
    "### 3.1 Removing digits and words containing digits"
   ]
  },
  {
   "cell_type": "code",
   "execution_count": 13,
   "id": "eed1b944-aa6d-4cc2-b0f0-e6174a11d322",
   "metadata": {},
   "outputs": [],
   "source": [
    "import re\n",
    "def remove_words_with_digits(text):\n",
    "    return re.sub(r'\\b\\w*\\d\\w*\\b', '', text)"
   ]
  },
  {
   "cell_type": "code",
   "execution_count": 14,
   "id": "339cee88-4bee-469f-a655-5b4c79ad48e7",
   "metadata": {},
   "outputs": [
    {
     "data": {
      "text/plain": [
       "0       Framed in the  for the double murder of his wi...\n",
       "1       Spanning the years  to , a chronicle of the fi...\n",
       "2       In the continuing saga of the Corleone crime f...\n",
       "3       The true story of how businessman Oskar Schind...\n",
       "4       A young girl, Chihiro, becomes trapped in a st...\n",
       "                              ...                        \n",
       "9246    Edward Carnby is a private investigator specia...\n",
       "9247    The filmmaking team behind the hits \"Scary Mov...\n",
       "9248    Set on an island off the coast, a techno rave ...\n",
       "9249    On his  birthday, Goku receives a mystical Dra...\n",
       "9250    A platoon of eagles and vultures attacks the r...\n",
       "Name: overview, Length: 9248, dtype: object"
      ]
     },
     "execution_count": 14,
     "metadata": {},
     "output_type": "execute_result"
    }
   ],
   "source": [
    "movies['overview'] = movies['overview'].apply(remove_words_with_digits)\n",
    "movies['overview']"
   ]
  },
  {
   "cell_type": "code",
   "execution_count": null,
   "id": "9cbfed1d-df10-4358-b9fb-7846091356f8",
   "metadata": {},
   "outputs": [],
   "source": []
  },
  {
   "cell_type": "markdown",
   "id": "091de454-1f78-438e-9bf7-4185b26567f1",
   "metadata": {},
   "source": [
    "### 3.2 Removing newline characters and extra spaces"
   ]
  },
  {
   "cell_type": "code",
   "execution_count": 15,
   "id": "03594954-9944-4b41-87fa-c089d1a2fc7c",
   "metadata": {},
   "outputs": [],
   "source": [
    "def remove_new_line_extra_spaces(text):\n",
    "    return re.sub('\\n', ' ', text)"
   ]
  },
  {
   "cell_type": "code",
   "execution_count": 16,
   "id": "c984ad9f-0d43-401b-ad6c-ad0b5f90149d",
   "metadata": {},
   "outputs": [
    {
     "data": {
      "text/plain": [
       "0       Framed in the  for the double murder of his wi...\n",
       "1       Spanning the years  to , a chronicle of the fi...\n",
       "2       In the continuing saga of the Corleone crime f...\n",
       "3       The true story of how businessman Oskar Schind...\n",
       "4       A young girl, Chihiro, becomes trapped in a st...\n",
       "                              ...                        \n",
       "9246    Edward Carnby is a private investigator specia...\n",
       "9247    The filmmaking team behind the hits \"Scary Mov...\n",
       "9248    Set on an island off the coast, a techno rave ...\n",
       "9249    On his  birthday, Goku receives a mystical Dra...\n",
       "9250    A platoon of eagles and vultures attacks the r...\n",
       "Name: overview, Length: 9248, dtype: object"
      ]
     },
     "execution_count": 16,
     "metadata": {},
     "output_type": "execute_result"
    }
   ],
   "source": [
    "movies['overview'] = movies['overview'].apply(remove_new_line_extra_spaces)\n",
    "movies['overview']"
   ]
  },
  {
   "cell_type": "code",
   "execution_count": null,
   "id": "a0c6d493-7e0d-4bf0-8bd7-dc7cb86e2bad",
   "metadata": {},
   "outputs": [],
   "source": []
  },
  {
   "cell_type": "markdown",
   "id": "55d92c0a-66c6-4035-942c-456b9761bcec",
   "metadata": {},
   "source": [
    "### 3.3 Removing URLs"
   ]
  },
  {
   "cell_type": "code",
   "execution_count": 17,
   "id": "5230966f-3d84-4aaf-827d-7de9b63d6a84",
   "metadata": {},
   "outputs": [],
   "source": [
    "def remove_urls(text):\n",
    "    return re.sub(r'https?://\\S+|www.\\.\\S+', '', text)"
   ]
  },
  {
   "cell_type": "code",
   "execution_count": 18,
   "id": "e61c540a-2597-456e-a039-4cfe6e9a1270",
   "metadata": {},
   "outputs": [
    {
     "data": {
      "text/plain": [
       "0       Framed in the  for the double murder of his wi...\n",
       "1       Spanning the years  to , a chronicle of the fi...\n",
       "2       In the continuing saga of the Corleone crime f...\n",
       "3       The true story of how businessman Oskar Schind...\n",
       "4       A young girl, Chihiro, becomes trapped in a st...\n",
       "                              ...                        \n",
       "9246    Edward Carnby is a private investigator specia...\n",
       "9247    The filmmaking team behind the hits \"Scary Mov...\n",
       "9248    Set on an island off the coast, a techno rave ...\n",
       "9249    On his  birthday, Goku receives a mystical Dra...\n",
       "9250    A platoon of eagles and vultures attacks the r...\n",
       "Name: overview, Length: 9248, dtype: object"
      ]
     },
     "execution_count": 18,
     "metadata": {},
     "output_type": "execute_result"
    }
   ],
   "source": [
    "movies['overview'] = movies['overview'].apply(remove_urls)\n",
    "movies['overview']"
   ]
  },
  {
   "cell_type": "code",
   "execution_count": null,
   "id": "a068407e-c07c-4aeb-b18a-964a9ccd1876",
   "metadata": {},
   "outputs": [],
   "source": []
  },
  {
   "cell_type": "markdown",
   "id": "12392afa-acb0-4b25-a43d-163f4d951469",
   "metadata": {},
   "source": [
    "### 3.4 Removing punctuations"
   ]
  },
  {
   "cell_type": "code",
   "execution_count": 19,
   "id": "0a2ef132-c226-4574-aa4a-16638e108c9a",
   "metadata": {},
   "outputs": [],
   "source": [
    "import string\n",
    "def remove_punctuations(text):\n",
    "    exclude = string.punctuation\n",
    "    translator = str.maketrans('', '', exclude)\n",
    "    return text.translate(translator)"
   ]
  },
  {
   "cell_type": "code",
   "execution_count": 20,
   "id": "195be9ca-7b04-4095-8a31-89829d581dd7",
   "metadata": {},
   "outputs": [
    {
     "data": {
      "text/plain": [
       "0       Framed in the  for the double murder of his wi...\n",
       "1       Spanning the years  to  a chronicle of the fic...\n",
       "2       In the continuing saga of the Corleone crime f...\n",
       "3       The true story of how businessman Oskar Schind...\n",
       "4       A young girl Chihiro becomes trapped in a stra...\n",
       "                              ...                        \n",
       "9246    Edward Carnby is a private investigator specia...\n",
       "9247    The filmmaking team behind the hits Scary Movi...\n",
       "9248    Set on an island off the coast a techno rave p...\n",
       "9249    On his  birthday Goku receives a mystical Drag...\n",
       "9250    A platoon of eagles and vultures attacks the r...\n",
       "Name: overview, Length: 9248, dtype: object"
      ]
     },
     "execution_count": 20,
     "metadata": {},
     "output_type": "execute_result"
    }
   ],
   "source": [
    "movies['overview'] = movies['overview'].apply(remove_punctuations)\n",
    "movies['overview']"
   ]
  },
  {
   "cell_type": "code",
   "execution_count": null,
   "id": "16d43965-f1e1-4498-a891-cc52c43f9273",
   "metadata": {},
   "outputs": [],
   "source": []
  },
  {
   "cell_type": "code",
   "execution_count": null,
   "id": "4bfbae7b-33e3-40d3-89db-49770fda10eb",
   "metadata": {},
   "outputs": [],
   "source": []
  },
  {
   "cell_type": "markdown",
   "id": "079780af-66c3-4565-b80f-c873e639e637",
   "metadata": {},
   "source": [
    "## **4. Text Preprocessing**\n",
    "Here we clean up our data (Overview of the movie) by using the below preprocessing techniques\n",
    "* Case Folding\n",
    "* Expand Contractions\n",
    "* Spelling Correction\n",
    "* Tokenize Text\n",
    "* Removing 'english' stop words\n",
    "* Stemming"
   ]
  },
  {
   "cell_type": "markdown",
   "id": "44dbb24f-1abd-4b12-8505-4e0a34552eb8",
   "metadata": {},
   "source": [
    "### 4.1 Case Folding"
   ]
  },
  {
   "cell_type": "code",
   "execution_count": 21,
   "id": "a5fd76e2-a1a7-427b-90b8-ecfe47ad0260",
   "metadata": {},
   "outputs": [
    {
     "data": {
      "text/plain": [
       "0       framed in the  for the double murder of his wi...\n",
       "1       spanning the years  to  a chronicle of the fic...\n",
       "2       in the continuing saga of the corleone crime f...\n",
       "3       the true story of how businessman oskar schind...\n",
       "4       a young girl chihiro becomes trapped in a stra...\n",
       "                              ...                        \n",
       "9246    edward carnby is a private investigator specia...\n",
       "9247    the filmmaking team behind the hits scary movi...\n",
       "9248    set on an island off the coast a techno rave p...\n",
       "9249    on his  birthday goku receives a mystical drag...\n",
       "9250    a platoon of eagles and vultures attacks the r...\n",
       "Name: overview, Length: 9248, dtype: object"
      ]
     },
     "execution_count": 21,
     "metadata": {},
     "output_type": "execute_result"
    }
   ],
   "source": [
    "movies['overview'] = movies['overview'].str.lower()\n",
    "movies['overview']"
   ]
  },
  {
   "cell_type": "code",
   "execution_count": null,
   "id": "7108db78-99c3-4199-80ec-db744b3f42c7",
   "metadata": {},
   "outputs": [],
   "source": []
  },
  {
   "cell_type": "markdown",
   "id": "fe883f70-afab-4536-be08-c93f6f386264",
   "metadata": {},
   "source": [
    "### 4.2 Expand Contractions"
   ]
  },
  {
   "cell_type": "code",
   "execution_count": 22,
   "id": "fea0e2e9-ef0c-4d44-a72f-af151047a24f",
   "metadata": {},
   "outputs": [],
   "source": [
    "import contractions\n",
    "\n",
    "def Expand_Contractions(text):\n",
    "    return contractions.fix(text)"
   ]
  },
  {
   "cell_type": "code",
   "execution_count": 23,
   "id": "5fb94e4b-f38b-4617-a59e-22ee6aaec8a5",
   "metadata": {},
   "outputs": [
    {
     "data": {
      "text/plain": [
       "0       framed in the  for the double murder of his wi...\n",
       "1       spanning the years  to  a chronicle of the fic...\n",
       "2       in the continuing saga of the corleone crime f...\n",
       "3       the true story of how businessman oskar schind...\n",
       "4       a young girl chihiro becomes trapped in a stra...\n",
       "                              ...                        \n",
       "9246    edward carnby is a private investigator specia...\n",
       "9247    the filmmaking team behind the hits scary movi...\n",
       "9248    set on an island off the coast a techno rave p...\n",
       "9249    on his  birthday goku receives a mystical drag...\n",
       "9250    a platoon of eagles and vultures attacks the r...\n",
       "Name: overview, Length: 9248, dtype: object"
      ]
     },
     "execution_count": 23,
     "metadata": {},
     "output_type": "execute_result"
    }
   ],
   "source": [
    "movies['overview'] = movies['overview'].apply(Expand_Contractions)\n",
    "movies['overview']"
   ]
  },
  {
   "cell_type": "code",
   "execution_count": null,
   "id": "1ba575a3-da27-4551-b007-121991851d5c",
   "metadata": {},
   "outputs": [],
   "source": []
  },
  {
   "cell_type": "markdown",
   "id": "8250db2b-b940-42f7-8afa-8836cbfa08c5",
   "metadata": {},
   "source": [
    "### 4.3 Spelling Correction"
   ]
  },
  {
   "cell_type": "code",
   "execution_count": 44,
   "id": "a4bdedff-ffa1-4767-8301-655a0a93836b",
   "metadata": {},
   "outputs": [],
   "source": [
    "from textblob import TextBlob\n",
    "\n",
    "def correct_spellings(text):\n",
    "    blob = TextBlob(text)\n",
    "    corrected_text = ' '.join([str(word.correct()) for word in blob.words])\n",
    "    return corrected_text"
   ]
  },
  {
   "cell_type": "code",
   "execution_count": 47,
   "id": "83dba00e-20aa-49ac-84e7-1639932f75a3",
   "metadata": {},
   "outputs": [],
   "source": [
    "from spellchecker import SpellChecker\n",
    "\n",
    "def correct_spellings(text):\n",
    "    # Create a SpellChecker object\n",
    "    spell = SpellChecker()\n",
    "    \n",
    "    # Split the text into words\n",
    "    words = text.split()\n",
    "    \n",
    "    # Perform spelling correction for each word\n",
    "    corrected_words = []\n",
    "    for word in words:\n",
    "        corrected_word = spell.correction(word)\n",
    "        if corrected_word is not None:\n",
    "            corrected_words.append(corrected_word)\n",
    "        else:\n",
    "            corrected_words.append(word)\n",
    "    \n",
    "    # Join the corrected words back into a string\n",
    "    corrected_text = ' '.join(corrected_words)\n",
    "    \n",
    "    return corrected_text\n"
   ]
  },
  {
   "cell_type": "code",
   "execution_count": 48,
   "id": "616891c0-0cbd-413c-838d-7affb873d80d",
   "metadata": {},
   "outputs": [
    {
     "data": {
      "text/plain": [
       "0       framed in the for the double murder of his wif...\n",
       "1       spanning the years to a chronicle of the ficti...\n",
       "2       in the continuing saga of the cornpone crime f...\n",
       "3       the true story of how businessman okay swindle...\n",
       "4       a young girl chihiro becomes trapped in a stra...\n",
       "                              ...                        \n",
       "9246    toward carny is a private investigator special...\n",
       "9247    the filmmaking team behind the hits scary movi...\n",
       "9248    set on an island off the coast a techno rave p...\n",
       "9249    on his birthday you receives a mystical dragon...\n",
       "9250    a platoon of eagles and vultures attacks the r...\n",
       "Name: overview, Length: 9248, dtype: object"
      ]
     },
     "execution_count": 48,
     "metadata": {},
     "output_type": "execute_result"
    }
   ],
   "source": [
    "movies['overview'] = movies['overview'].apply(correct_spellings)\n",
    "movies['overview']"
   ]
  },
  {
   "cell_type": "markdown",
   "id": "ba8b9a61-8471-4e07-9807-6ada7c940551",
   "metadata": {},
   "source": [
    "### 4.4 Tokenize Text"
   ]
  },
  {
   "cell_type": "code",
   "execution_count": 39,
   "id": "f66b55e9-ea19-45ce-b5ae-7f4ca8d68006",
   "metadata": {},
   "outputs": [],
   "source": [
    "import spacy\n",
    "nlp = spacy.load('en_core_web_sm')\n",
    "def tokenize_text(text):\n",
    "    doc = nlp(text)\n",
    "    return ' '.join(token.text for token in doc)\n"
   ]
  },
  {
   "cell_type": "code",
   "execution_count": 40,
   "id": "422336e9-f61e-40ef-8c42-15fe7bd4c097",
   "metadata": {},
   "outputs": [
    {
     "data": {
      "text/plain": [
       "0       framed in the for the double murder of his wif...\n",
       "1       spanning the years to a chronicle of the ficti...\n",
       "2       in the continuing saga of the cornpone crime f...\n",
       "3       the true story of how businessman okay swindle...\n",
       "4       a young girl chihiro becomes trapped in a stra...\n",
       "                              ...                        \n",
       "9243    toward carny is a private investigator special...\n",
       "9244    the filmmaking team behind the hits scary movi...\n",
       "9245    set on an island off the coast a techno rave p...\n",
       "9246    on his birthday you receives a mystical dragon...\n",
       "9247    a platoon of eagles and vultures attacks the r...\n",
       "Name: overview, Length: 9248, dtype: object"
      ]
     },
     "execution_count": 40,
     "metadata": {},
     "output_type": "execute_result"
    }
   ],
   "source": [
    "movies['overview'] = movies['overview'].apply(tokenize_text)\n",
    "movies['overview']"
   ]
  },
  {
   "cell_type": "markdown",
   "id": "49e561f0-b304-4096-a53f-c73d07b7eb62",
   "metadata": {},
   "source": [
    "### 4.5 Stopwords Removal"
   ]
  },
  {
   "cell_type": "code",
   "execution_count": 41,
   "id": "37353bf3-88f8-405f-98f0-d5d309bf2900",
   "metadata": {},
   "outputs": [],
   "source": [
    "import spacy\n",
    "\n",
    "nlp = spacy.load('en_core_web_sm')\n",
    "def remove_stopwords_spacy(text):\n",
    "    new_text = list()\n",
    "    for word in text.split():\n",
    "        if word not in nlp.Defaults.stop_words:\n",
    "            new_text.append(word)\n",
    "    return \" \".join(new_text)"
   ]
  },
  {
   "cell_type": "code",
   "execution_count": 42,
   "id": "f7d2a7b1-78ad-4d8f-9a43-f09338e23c63",
   "metadata": {},
   "outputs": [
    {
     "data": {
      "text/plain": [
       "0       framed double murder wife lover upstanding ban...\n",
       "1       spanning years chronicle fictional italianamer...\n",
       "2       continuing saga cornpone crime family young ve...\n",
       "3       true story businessman okay swindler saved tho...\n",
       "4       young girl chihiro trapped strange new world s...\n",
       "                              ...                        \n",
       "9243    carny private investigator specializing unexpl...\n",
       "9244    filmmaking team hits scary movie date movie ep...\n",
       "9245    set island coast techno rave party attracts di...\n",
       "9246    birthday receives mystical dragonball gift gra...\n",
       "9247    platoon eagles vultures attacks residents smal...\n",
       "Name: overview, Length: 9248, dtype: object"
      ]
     },
     "execution_count": 42,
     "metadata": {},
     "output_type": "execute_result"
    }
   ],
   "source": [
    "movies['overview'] = movies['overview'].apply(remove_stopwords_spacy)\n",
    "movies['overview']"
   ]
  },
  {
   "cell_type": "code",
   "execution_count": null,
   "id": "671cfad1-9014-4445-a20a-5f990f3b1b58",
   "metadata": {},
   "outputs": [],
   "source": []
  },
  {
   "cell_type": "markdown",
   "id": "150299ba-d0bd-4b5d-a9f6-27016a83f176",
   "metadata": {},
   "source": [
    "### 4.6 Stemming"
   ]
  },
  {
   "cell_type": "code",
   "execution_count": 43,
   "id": "6b764d82-1f47-4aa4-b65c-5f6fdb5dcdce",
   "metadata": {},
   "outputs": [],
   "source": [
    "from nltk.stem import PorterStemmer\n",
    "from nltk.tokenize import word_tokenize\n",
    "\n",
    "def stemming(text):\n",
    "    porter = PorterStemmer()\n",
    "    words = word_tokenize(text)\n",
    "    stemmed_words = [porter.stem(word) for word in words]\n",
    "    return ' '.join(stemmed_words)"
   ]
  },
  {
   "cell_type": "code",
   "execution_count": 44,
   "id": "a20a348c-b3dc-4b14-8e90-ef26eb082ae7",
   "metadata": {},
   "outputs": [
    {
     "data": {
      "text/plain": [
       "0       frame doubl murder wife lover upstand banker d...\n",
       "1       span year chronicl fiction italianamerican cor...\n",
       "2       continu saga cornpon crime famili young veto c...\n",
       "3       true stori businessman okay swindler save thou...\n",
       "4       young girl chihiro trap strang new world spiri...\n",
       "                              ...                        \n",
       "9243    carni privat investig special unexplain supern...\n",
       "9244    filmmak team hit scari movi date movi epic mov...\n",
       "9245    set island coast techno rave parti attract div...\n",
       "9246    birthday receiv mystic dragonbal gift grandfat...\n",
       "9247    platoon eagl vultur attack resid small town pe...\n",
       "Name: overview, Length: 9248, dtype: object"
      ]
     },
     "execution_count": 44,
     "metadata": {},
     "output_type": "execute_result"
    }
   ],
   "source": [
    "movies['overview'] = movies['overview'].apply(stemming)\n",
    "movies['overview']"
   ]
  },
  {
   "cell_type": "code",
   "execution_count": null,
   "id": "a4762530-e5b9-40a2-bdce-7eac3406f5cc",
   "metadata": {},
   "outputs": [],
   "source": []
  },
  {
   "cell_type": "code",
   "execution_count": null,
   "id": "d970cea4-0954-459f-bc0f-016c7b3089a4",
   "metadata": {},
   "outputs": [],
   "source": [
    "import contractions\n",
    "import spacy\n",
    "from textblob import TextBlob\n",
    "from nltk.stem import PorterStemmer\n",
    "from nltk.tokenize import word_tokenize\n",
    "import re\n",
    "import string \n",
    "\n",
    "nlp = spacy.load('en_core_web_sm')\n",
    "\n",
    "def remove_stopwords_spacy(text):\n",
    "    new_text = list()\n",
    "    for word in text.split():\n",
    "        if word not in nlp.Defaults.stop_words:\n",
    "            new_text.append(word)\n",
    "    return \" \".join(new_text)\n",
    "\n",
    "\n",
    "def Text_Cleaning(text):\n",
    "    text = re.sub(r'\\b\\w*\\d\\w*\\b', '', text)                                      # Removing digits and words containing digits\n",
    "    text = re.sub('\\n', ' ', text)                                                # Removing newline characters and extra spaces\n",
    "    text = re.sub(r'https?://\\S+|www.\\.\\S+', '', text)                            # Removing URLs\n",
    "    exclude = string.punctuation                                                  # Removing punctuations\n",
    "    translator = str.maketrans('', '', exclude)\n",
    "    return text.translate(translator)\n",
    "\n",
    "def Text_Preprocessing(text):\n",
    "    text = text.lower()                                                           # Case Folding\n",
    "    text = contractions.fix(text)                                                 # Expand Contractions\n",
    "    text = ' '.join([str(word.correct()) for word in TextBlob(text).words])       # Spelling Correction\n",
    "    text = ' '.join(token.text for token in nlp(text))                            # Tokenize Text\n",
    "    text = remove_stopwords_spacy(text)                                           # Stopwords Removal\n",
    "    text = ' '.join([PorterStemmer().stem(word) for word in word_tokenize(text)]) # Stemming\n",
    "    return text"
   ]
  },
  {
   "cell_type": "code",
   "execution_count": null,
   "id": "e9149dcf-dada-476c-8307-8701586786e8",
   "metadata": {},
   "outputs": [],
   "source": []
  },
  {
   "cell_type": "code",
   "execution_count": null,
   "id": "59f22204-3598-4692-84d5-a9fb4f51099b",
   "metadata": {},
   "outputs": [],
   "source": []
  },
  {
   "cell_type": "code",
   "execution_count": null,
   "id": "976e7be1-f0a8-401c-8fb0-9d57f002815b",
   "metadata": {},
   "outputs": [],
   "source": []
  },
  {
   "cell_type": "markdown",
   "id": "9e09c807-60b7-4f2c-b76a-744ddc3c4c21",
   "metadata": {},
   "source": [
    "## **Save the Pre-Processed Dataframe in a New CSV File**"
   ]
  },
  {
   "cell_type": "code",
   "execution_count": 45,
   "id": "f4c0cef6-959b-4af5-990e-d53751047086",
   "metadata": {},
   "outputs": [],
   "source": [
    "movies.to_csv('Datasets/Processed_Datasets/Pre-Processed_TMDB_Movies.csv')"
   ]
  },
  {
   "cell_type": "code",
   "execution_count": 47,
   "id": "5bc06c1c-789b-4fb4-bcc5-9e9cc7a6ee94",
   "metadata": {},
   "outputs": [
    {
     "data": {
      "text/html": [
       "<div>\n",
       "<style scoped>\n",
       "    .dataframe tbody tr th:only-of-type {\n",
       "        vertical-align: middle;\n",
       "    }\n",
       "\n",
       "    .dataframe tbody tr th {\n",
       "        vertical-align: top;\n",
       "    }\n",
       "\n",
       "    .dataframe thead th {\n",
       "        text-align: right;\n",
       "    }\n",
       "</style>\n",
       "<table border=\"1\" class=\"dataframe\">\n",
       "  <thead>\n",
       "    <tr style=\"text-align: right;\">\n",
       "      <th></th>\n",
       "      <th>title</th>\n",
       "      <th>overview</th>\n",
       "      <th>genres</th>\n",
       "    </tr>\n",
       "  </thead>\n",
       "  <tbody>\n",
       "    <tr>\n",
       "      <th>0</th>\n",
       "      <td>The Shawshank Redemption</td>\n",
       "      <td>frame doubl murder wife lover upstand banker d...</td>\n",
       "      <td>Drama,Crime</td>\n",
       "    </tr>\n",
       "    <tr>\n",
       "      <th>1</th>\n",
       "      <td>The Godfather</td>\n",
       "      <td>span year chronicl fiction italianamerican cor...</td>\n",
       "      <td>Drama,Crime</td>\n",
       "    </tr>\n",
       "    <tr>\n",
       "      <th>2</th>\n",
       "      <td>The Godfather Part II</td>\n",
       "      <td>continu saga cornpon crime famili young veto c...</td>\n",
       "      <td>Drama,Crime</td>\n",
       "    </tr>\n",
       "    <tr>\n",
       "      <th>3</th>\n",
       "      <td>Schindler's List</td>\n",
       "      <td>true stori businessman okay swindler save thou...</td>\n",
       "      <td>Drama,History,War</td>\n",
       "    </tr>\n",
       "    <tr>\n",
       "      <th>4</th>\n",
       "      <td>Spirited Away</td>\n",
       "      <td>young girl chihiro trap strang new world spiri...</td>\n",
       "      <td>Animation,Family,Fantasy</td>\n",
       "    </tr>\n",
       "  </tbody>\n",
       "</table>\n",
       "</div>"
      ],
      "text/plain": [
       "                      title  \\\n",
       "0  The Shawshank Redemption   \n",
       "1             The Godfather   \n",
       "2     The Godfather Part II   \n",
       "3          Schindler's List   \n",
       "4             Spirited Away   \n",
       "\n",
       "                                            overview                    genres  \n",
       "0  frame doubl murder wife lover upstand banker d...               Drama,Crime  \n",
       "1  span year chronicl fiction italianamerican cor...               Drama,Crime  \n",
       "2  continu saga cornpon crime famili young veto c...               Drama,Crime  \n",
       "3  true stori businessman okay swindler save thou...         Drama,History,War  \n",
       "4  young girl chihiro trap strang new world spiri...  Animation,Family,Fantasy  "
      ]
     },
     "execution_count": 47,
     "metadata": {},
     "output_type": "execute_result"
    }
   ],
   "source": [
    "movies = pd.read_csv('Datasets/Processed_Datasets/Pre-Processed_TMDB_Movies.csv')[['title','overview','genres']]\n",
    "movies.head()"
   ]
  },
  {
   "cell_type": "code",
   "execution_count": 48,
   "id": "42389dfb-9483-40e2-afb5-e68ce62ced1c",
   "metadata": {},
   "outputs": [
    {
     "data": {
      "text/plain": [
       "(9248, 3)"
      ]
     },
     "execution_count": 48,
     "metadata": {},
     "output_type": "execute_result"
    }
   ],
   "source": [
    "movies.shape"
   ]
  },
  {
   "cell_type": "code",
   "execution_count": null,
   "id": "5e99a463-6b32-4d9c-8fa6-469ff4455277",
   "metadata": {},
   "outputs": [],
   "source": []
  }
 ],
 "metadata": {
  "kernelspec": {
   "display_name": "Python 3 (ipykernel)",
   "language": "python",
   "name": "python3"
  },
  "language_info": {
   "codemirror_mode": {
    "name": "ipython",
    "version": 3
   },
   "file_extension": ".py",
   "mimetype": "text/x-python",
   "name": "python",
   "nbconvert_exporter": "python",
   "pygments_lexer": "ipython3",
   "version": "3.10.6"
  }
 },
 "nbformat": 4,
 "nbformat_minor": 5
}
